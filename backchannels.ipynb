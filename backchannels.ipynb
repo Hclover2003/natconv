{
 "cells": [
  {
   "cell_type": "code",
   "execution_count": 12,
   "metadata": {},
   "outputs": [],
   "source": [
    "import pandas as pd\n",
    "import numpy as np\n",
    "import seaborn as sns\n",
    "import matplotlib as plt\n",
    "import statsmodels.formula.api as smf \n",
    "import re"
   ]
  },
  {
   "attachments": {},
   "cell_type": "markdown",
   "metadata": {},
   "source": [
    "# Load Data"
   ]
  },
  {
   "cell_type": "code",
   "execution_count": 13,
   "metadata": {},
   "outputs": [
    {
     "name": "stdout",
     "output_type": "stream",
     "text": [
      "(3312, 226)\n"
     ]
    },
    {
     "data": {
      "text/html": [
       "<div>\n",
       "<style scoped>\n",
       "    .dataframe tbody tr th:only-of-type {\n",
       "        vertical-align: middle;\n",
       "    }\n",
       "\n",
       "    .dataframe tbody tr th {\n",
       "        vertical-align: top;\n",
       "    }\n",
       "\n",
       "    .dataframe thead th {\n",
       "        text-align: right;\n",
       "    }\n",
       "</style>\n",
       "<table border=\"1\" class=\"dataframe\">\n",
       "  <thead>\n",
       "    <tr style=\"text-align: right;\">\n",
       "      <th></th>\n",
       "      <th>user_id</th>\n",
       "      <th>partner_id</th>\n",
       "      <th>conversation</th>\n",
       "      <th>date</th>\n",
       "      <th>survey_duration_in_seconds</th>\n",
       "      <th>time_zone</th>\n",
       "      <th>pre_affect</th>\n",
       "      <th>pre_arousal</th>\n",
       "      <th>technical_quality</th>\n",
       "      <th>conv_length</th>\n",
       "      <th>...</th>\n",
       "      <th>your_agreeable</th>\n",
       "      <th>your_conscientious</th>\n",
       "      <th>your_neurotic</th>\n",
       "      <th>your_open</th>\n",
       "      <th>who_i_talked_to_most_past24</th>\n",
       "      <th>most_common_format_past24</th>\n",
       "      <th>speaker</th>\n",
       "      <th>backchannel_given</th>\n",
       "      <th>backchannel_recieved</th>\n",
       "      <th>backchannel_count</th>\n",
       "    </tr>\n",
       "  </thead>\n",
       "  <tbody>\n",
       "    <tr>\n",
       "      <th>0</th>\n",
       "      <td>5a73899f9cdd1800017786f0</td>\n",
       "      <td>5fa072f4f4aa580b63834357</td>\n",
       "      <td>0020a0c5-1658-4747-99c1-2839e736b481</td>\n",
       "      <td>2020-11-10</td>\n",
       "      <td>4115</td>\n",
       "      <td>6.0</td>\n",
       "      <td>5.0</td>\n",
       "      <td>4.0</td>\n",
       "      <td>1.0</td>\n",
       "      <td>45.0</td>\n",
       "      <td>...</td>\n",
       "      <td>4.0</td>\n",
       "      <td>4.666667</td>\n",
       "      <td>3.0</td>\n",
       "      <td>4.666667</td>\n",
       "      <td>NaN</td>\n",
       "      <td>NaN</td>\n",
       "      <td>5a73899f9cdd1800017786f0</td>\n",
       "      <td>269</td>\n",
       "      <td>83</td>\n",
       "      <td>352</td>\n",
       "    </tr>\n",
       "  </tbody>\n",
       "</table>\n",
       "<p>1 rows × 226 columns</p>\n",
       "</div>"
      ],
      "text/plain": [
       "                    user_id                partner_id  \\\n",
       "0  5a73899f9cdd1800017786f0  5fa072f4f4aa580b63834357   \n",
       "\n",
       "                           conversation        date  \\\n",
       "0  0020a0c5-1658-4747-99c1-2839e736b481  2020-11-10   \n",
       "\n",
       "   survey_duration_in_seconds  time_zone  pre_affect  pre_arousal  \\\n",
       "0                        4115        6.0         5.0          4.0   \n",
       "\n",
       "   technical_quality  conv_length  ...  your_agreeable  your_conscientious  \\\n",
       "0                1.0         45.0  ...             4.0            4.666667   \n",
       "\n",
       "   your_neurotic  your_open  who_i_talked_to_most_past24  \\\n",
       "0            3.0   4.666667                          NaN   \n",
       "\n",
       "   most_common_format_past24                   speaker  backchannel_given  \\\n",
       "0                        NaN  5a73899f9cdd1800017786f0                269   \n",
       "\n",
       "  backchannel_recieved  backchannel_count  \n",
       "0                   83                352  \n",
       "\n",
       "[1 rows x 226 columns]"
      ]
     },
     "execution_count": 13,
     "metadata": {},
     "output_type": "execute_result"
    }
   ],
   "source": [
    "# Full Survey\n",
    "df = pd.read_csv(\"survey_full.csv\")\n",
    "df = df.drop(columns=['Unnamed: 0']) # drop unnecessary columns\n",
    "print(df.shape)\n",
    "df.head(1)"
   ]
  },
  {
   "cell_type": "code",
   "execution_count": 14,
   "metadata": {},
   "outputs": [
    {
     "name": "stdout",
     "output_type": "stream",
     "text": [
      "(229, 8)\n"
     ]
    },
    {
     "data": {
      "text/html": [
       "<div>\n",
       "<style scoped>\n",
       "    .dataframe tbody tr th:only-of-type {\n",
       "        vertical-align: middle;\n",
       "    }\n",
       "\n",
       "    .dataframe tbody tr th {\n",
       "        vertical-align: top;\n",
       "    }\n",
       "\n",
       "    .dataframe thead th {\n",
       "        text-align: right;\n",
       "    }\n",
       "</style>\n",
       "<table border=\"1\" class=\"dataframe\">\n",
       "  <thead>\n",
       "    <tr style=\"text-align: right;\">\n",
       "      <th></th>\n",
       "      <th>column</th>\n",
       "      <th>text</th>\n",
       "      <th>sub_questions</th>\n",
       "      <th>type</th>\n",
       "      <th>selector</th>\n",
       "      <th>sub_selector</th>\n",
       "      <th>choices</th>\n",
       "      <th>notes</th>\n",
       "    </tr>\n",
       "  </thead>\n",
       "  <tbody>\n",
       "    <tr>\n",
       "      <th>0</th>\n",
       "      <td>user_id</td>\n",
       "      <td>The ID of the respondent.</td>\n",
       "      <td>NaN</td>\n",
       "      <td>NaN</td>\n",
       "      <td>NaN</td>\n",
       "      <td>NaN</td>\n",
       "      <td>NaN</td>\n",
       "      <td>NaN</td>\n",
       "    </tr>\n",
       "  </tbody>\n",
       "</table>\n",
       "</div>"
      ],
      "text/plain": [
       "    column                       text sub_questions type selector  \\\n",
       "0  user_id  The ID of the respondent.           NaN  NaN      NaN   \n",
       "\n",
       "  sub_selector choices notes  \n",
       "0          NaN     NaN   NaN  "
      ]
     },
     "execution_count": 14,
     "metadata": {},
     "output_type": "execute_result"
    }
   ],
   "source": [
    "# Data Dictionary\n",
    "datadict_df = pd.read_csv(\"datadict.csv\")\n",
    "print(datadict_df.shape)\n",
    "datadict_df.head(1)"
   ]
  },
  {
   "cell_type": "code",
   "execution_count": 15,
   "metadata": {},
   "outputs": [
    {
     "data": {
      "text/plain": [
       "0"
      ]
     },
     "execution_count": 15,
     "metadata": {},
     "output_type": "execute_result"
    }
   ],
   "source": [
    "df.backchannel_count.isnull().sum()"
   ]
  },
  {
   "cell_type": "code",
   "execution_count": 16,
   "metadata": {},
   "outputs": [
    {
     "data": {
      "text/html": [
       "<div>\n",
       "<style scoped>\n",
       "    .dataframe tbody tr th:only-of-type {\n",
       "        vertical-align: middle;\n",
       "    }\n",
       "\n",
       "    .dataframe tbody tr th {\n",
       "        vertical-align: top;\n",
       "    }\n",
       "\n",
       "    .dataframe thead th {\n",
       "        text-align: right;\n",
       "    }\n",
       "</style>\n",
       "<table border=\"1\" class=\"dataframe\">\n",
       "  <thead>\n",
       "    <tr style=\"text-align: right;\">\n",
       "      <th></th>\n",
       "      <th>column</th>\n",
       "      <th>corr</th>\n",
       "      <th>column_description</th>\n",
       "    </tr>\n",
       "  </thead>\n",
       "  <tbody>\n",
       "    <tr>\n",
       "      <th>0</th>\n",
       "      <td>your_mind_wander</td>\n",
       "      <td>-0.130299</td>\n",
       "      <td>102    During your conversation, how much do y...</td>\n",
       "    </tr>\n",
       "    <tr>\n",
       "      <th>1</th>\n",
       "      <td>interested_in_exchanging_contact_info</td>\n",
       "      <td>-0.129407</td>\n",
       "      <td>48    If you had the opportunity to exchange c...</td>\n",
       "    </tr>\n",
       "    <tr>\n",
       "      <th>2</th>\n",
       "      <td>my_sad_pre_covid</td>\n",
       "      <td>-0.122337</td>\n",
       "      <td>195    Prior to the Covid-19 outbreak, to what...</td>\n",
       "    </tr>\n",
       "    <tr>\n",
       "      <th>3</th>\n",
       "      <td>my_mind_wander</td>\n",
       "      <td>-0.120472</td>\n",
       "      <td>101    During your conversation, how much did ...</td>\n",
       "    </tr>\n",
       "    <tr>\n",
       "      <th>4</th>\n",
       "      <td>you_are_good_listener</td>\n",
       "      <td>0.101569</td>\n",
       "      <td>96    My partner was a good listener.\\nName: t...</td>\n",
       "    </tr>\n",
       "    <tr>\n",
       "      <th>...</th>\n",
       "      <td>...</td>\n",
       "      <td>...</td>\n",
       "      <td>...</td>\n",
       "    </tr>\n",
       "    <tr>\n",
       "      <th>56</th>\n",
       "      <td>how_long_other</td>\n",
       "      <td>0.229871</td>\n",
       "      <td>119    How much longer do you think your partn...</td>\n",
       "    </tr>\n",
       "    <tr>\n",
       "      <th>57</th>\n",
       "      <td>am_i_sheltering_in_place_now</td>\n",
       "      <td>0.232449</td>\n",
       "      <td>202    Are you currently staying at home most ...</td>\n",
       "    </tr>\n",
       "    <tr>\n",
       "      <th>58</th>\n",
       "      <td>backchannel_given</td>\n",
       "      <td>0.644520</td>\n",
       "      <td>Series([], Name: text, dtype: object)</td>\n",
       "    </tr>\n",
       "    <tr>\n",
       "      <th>59</th>\n",
       "      <td>backchannel_recieved</td>\n",
       "      <td>0.644520</td>\n",
       "      <td>Series([], Name: text, dtype: object)</td>\n",
       "    </tr>\n",
       "    <tr>\n",
       "      <th>60</th>\n",
       "      <td>backchannel_count</td>\n",
       "      <td>1.000000</td>\n",
       "      <td>Series([], Name: text, dtype: object)</td>\n",
       "    </tr>\n",
       "  </tbody>\n",
       "</table>\n",
       "<p>61 rows × 3 columns</p>\n",
       "</div>"
      ],
      "text/plain": [
       "                                   column      corr  \\\n",
       "0                        your_mind_wander -0.130299   \n",
       "1   interested_in_exchanging_contact_info -0.129407   \n",
       "2                        my_sad_pre_covid -0.122337   \n",
       "3                          my_mind_wander -0.120472   \n",
       "4                   you_are_good_listener  0.101569   \n",
       "..                                    ...       ...   \n",
       "56                         how_long_other  0.229871   \n",
       "57           am_i_sheltering_in_place_now  0.232449   \n",
       "58                      backchannel_given  0.644520   \n",
       "59                   backchannel_recieved  0.644520   \n",
       "60                      backchannel_count  1.000000   \n",
       "\n",
       "                                   column_description  \n",
       "0   102    During your conversation, how much do y...  \n",
       "1   48    If you had the opportunity to exchange c...  \n",
       "2   195    Prior to the Covid-19 outbreak, to what...  \n",
       "3   101    During your conversation, how much did ...  \n",
       "4   96    My partner was a good listener.\\nName: t...  \n",
       "..                                                ...  \n",
       "56  119    How much longer do you think your partn...  \n",
       "57  202    Are you currently staying at home most ...  \n",
       "58              Series([], Name: text, dtype: object)  \n",
       "59              Series([], Name: text, dtype: object)  \n",
       "60              Series([], Name: text, dtype: object)  \n",
       "\n",
       "[61 rows x 3 columns]"
      ]
     },
     "execution_count": 16,
     "metadata": {},
     "output_type": "execute_result"
    }
   ],
   "source": [
    "corr_df = pd.read_csv(\"corr.csv\")\n",
    "corr_df = corr_df.drop(columns=['Unnamed: 0'])\n",
    "corr_df"
   ]
  },
  {
   "cell_type": "code",
   "execution_count": 17,
   "metadata": {},
   "outputs": [
    {
     "data": {
      "text/plain": [
       "backchannel_recieved                 1.000000\n",
       "backchannel_count                    0.610215\n",
       "conv_length                          0.223045\n",
       "survey_duration_in_seconds           0.143344\n",
       "my_partner_was_clear_and_coherent    0.120695\n",
       "end_other_time_1                     0.108877\n",
       "how_long_other                       0.105935\n",
       "end_you_time_1                       0.101781\n",
       "how_enjoyable                        0.097188\n",
       "i_felt_close_to_my_partner           0.091115\n",
       "my_partner_paid_attention_to_me      0.087567\n",
       "i_would_like_to_become_friends       0.086609\n",
       "affect                               0.086255\n",
       "how_long_you                         0.082487\n",
       "am_i_sheltering_in_place_now         0.080630\n",
       "next_seven_days                      0.077471\n",
       "discussed_real_things_sr4            0.076017\n",
       "best_affect                          0.075836\n",
       "i_like_you                           0.071918\n",
       "you_are_giving                       0.069934\n",
       "Name: backchannel_recieved, dtype: float64"
      ]
     },
     "execution_count": 17,
     "metadata": {},
     "output_type": "execute_result"
    }
   ],
   "source": [
    "# Spearman's correlation\n",
    "df.corr(method=\"spearman\")[\"backchannel_recieved\"].sort_values(ascending=False).head(20)"
   ]
  },
  {
   "cell_type": "code",
   "execution_count": 18,
   "metadata": {},
   "outputs": [
    {
     "data": {
      "text/plain": [
       "backchannel_given                       -0.165245\n",
       "longer_other                            -0.102152\n",
       "interested_in_exchanging_contact_info   -0.093564\n",
       "your_mind_wander                        -0.090263\n",
       "my_sad_pre_covid                        -0.083328\n",
       "convo_format_other                      -0.080389\n",
       "my_distracted_pre_covid                 -0.073241\n",
       "my_mind_wander                          -0.069034\n",
       "longer_self                             -0.068031\n",
       "your_bfi_10                             -0.067403\n",
       "convo_who_family                        -0.064955\n",
       "n_living_with_me_post_covid             -0.060336\n",
       "my_stress_pre_covid                     -0.058816\n",
       "i_am_fair                               -0.051103\n",
       "realtime                                -0.049517\n",
       "i_am_quickwitted                        -0.041008\n",
       "i_think_my_status                       -0.039377\n",
       "i_am_humble                             -0.038313\n",
       "convo_format_video_chat                 -0.038212\n",
       "convo_format_phone_call                 -0.037777\n",
       "Name: backchannel_recieved, dtype: float64"
      ]
     },
     "execution_count": 18,
     "metadata": {},
     "output_type": "execute_result"
    }
   ],
   "source": [
    "df.corr()[\"backchannel_recieved\"].sort_values(ascending=True).head(20)"
   ]
  },
  {
   "cell_type": "code",
   "execution_count": 27,
   "metadata": {},
   "outputs": [],
   "source": [
    "upper_quant = df.conversationalist.quantile(0.75)"
   ]
  },
  {
   "cell_type": "code",
   "execution_count": 28,
   "metadata": {},
   "outputs": [],
   "source": [
    "lower_quant = df.conversationalist.quantile(0.25)"
   ]
  },
  {
   "cell_type": "code",
   "execution_count": 30,
   "metadata": {},
   "outputs": [
    {
     "data": {
      "text/plain": [
       "3257"
      ]
     },
     "execution_count": 30,
     "metadata": {},
     "output_type": "execute_result"
    }
   ],
   "source": [
    "df.conversationalist.count()"
   ]
  },
  {
   "cell_type": "code",
   "execution_count": 29,
   "metadata": {},
   "outputs": [
    {
     "data": {
      "text/plain": [
       "user_id                       626\n",
       "partner_id                    626\n",
       "conversation                  626\n",
       "date                          626\n",
       "survey_duration_in_seconds    626\n",
       "                             ... \n",
       "most_common_format_past24      94\n",
       "speaker                       626\n",
       "backchannel_given             626\n",
       "backchannel_recieved          626\n",
       "backchannel_count             626\n",
       "Length: 226, dtype: int64"
      ]
     },
     "execution_count": 29,
     "metadata": {},
     "output_type": "execute_result"
    }
   ],
   "source": [
    "df[df[\"conversationalist\"]>upper_quant].count()"
   ]
  },
  {
   "cell_type": "code",
   "execution_count": 33,
   "metadata": {},
   "outputs": [
    {
     "data": {
      "text/plain": [
       "user_id                       775\n",
       "partner_id                    775\n",
       "conversation                  775\n",
       "date                          775\n",
       "survey_duration_in_seconds    775\n",
       "                             ... \n",
       "most_common_format_past24      76\n",
       "speaker                       775\n",
       "backchannel_given             775\n",
       "backchannel_recieved          775\n",
       "backchannel_count             775\n",
       "Length: 226, dtype: int64"
      ]
     },
     "execution_count": 33,
     "metadata": {},
     "output_type": "execute_result"
    }
   ],
   "source": [
    "df[df[\"conversationalist\"]<lower_quant].count()"
   ]
  },
  {
   "cell_type": "code",
   "execution_count": 37,
   "metadata": {},
   "outputs": [
    {
     "data": {
      "text/plain": [
       "2009      0.0\n",
       "887       0.0\n",
       "892       0.0\n",
       "349       0.0\n",
       "2399      0.0\n",
       "        ...  \n",
       "1748    100.0\n",
       "617     100.0\n",
       "1751    100.0\n",
       "1680    100.0\n",
       "1658    100.0\n",
       "Name: conversationalist, Length: 3257, dtype: float64"
      ]
     },
     "execution_count": 37,
     "metadata": {},
     "output_type": "execute_result"
    }
   ],
   "source": [
    "df_conv = df[df[\"conversationalist\"].notnull()].copy()\n",
    "df_conv.sort_values(\"conversationalist\")[\"conversationalist\"]"
   ]
  },
  {
   "cell_type": "code",
   "execution_count": 42,
   "metadata": {},
   "outputs": [],
   "source": []
  },
  {
   "cell_type": "code",
   "execution_count": 56,
   "metadata": {},
   "outputs": [
    {
     "name": "stdout",
     "output_type": "stream",
     "text": [
      "Finished 7cda8619-2b2d-4344-901e-2e6de0a6101a\n",
      "Finished c7724594-f71e-4881-b524-da59460aeb7c\n",
      "Finished 8712e06c-82bc-46dc-ba0f-4181c1feaf48\n",
      "Finished 0278950b-a7e0-4e15-8a2b-1629ff1b17ba\n",
      "Finished f1f6de10-a5a9-42a2-a9e5-dd969e37171b\n",
      "Finished 607a1155-0781-43a4-88ea-66a4cdb75585\n",
      "Finished 293c053e-47a3-4ab5-84ab-c167527233ce\n",
      "Finished f7fd5d51-95a8-4a62-a354-0d9f13e8bafe\n",
      "Finished 826378b6-4c2b-4309-b66e-2a0a6b8fc162\n",
      "Finished 4534b849-b002-42f2-84e7-d2cc9e73fa24\n",
      "Finished 07b732f9-a9e0-43e9-85a4-263a6d78af0d\n",
      "Finished 9ac1cd72-36b7-4fe1-a870-d35801fae201\n",
      "Finished fd8146e2-378f-459a-bec6-e76896e135a0\n",
      "Finished b877a5bf-3384-4ea0-bf82-cef399a1b00d\n",
      "Finished bce0bc62-239e-4fdd-b2b8-252a4a6df717\n",
      "Finished 69f68857-86f2-4357-9675-e4b2f62dad8d\n",
      "Finished d92f6f54-ebb5-42ec-826e-a0916c2a8812\n",
      "Finished fca231e3-c8d1-4e97-b015-94b6c5f505a1\n",
      "Finished f81a3aa9-3cb3-4df0-ba18-9b1f6f19e5ba\n",
      "Finished 397d469d-1ae2-4d4d-8cd4-20ccb3b260de\n"
     ]
    }
   ],
   "source": [
    "import matplotlib.pyplot as plt\n",
    "import shutil\n",
    "import random\n",
    "import numpy as np\n",
    "\n",
    "random.seed(0)\n",
    "np.random.seed(0)\n",
    "\n",
    "low_conv = df_conv[df_conv[\"conversationalist\"]<df_conv.conversationalist.quantile(0.25)]\n",
    "low_conv_selected = low_conv.sample(20)\n",
    "low_conv_ids = low_conv_selected[\"conversation\"]\n",
    "for conv_id in low_conv_ids:\n",
    "    conv_dir = f\"/Users/huayinluo/Downloads/candor(1)/{conv_id}/transcription/transcript_backbiter.csv\"\n",
    "    shutil.copy(conv_dir, f\"/Users/huayinluo/Desktop/code/natconv/low_conv/{conv_id}_transcript_backbiter.csv\")\n",
    "    print(f\"Finished {conv_id}\")\n",
    "    "
   ]
  },
  {
   "cell_type": "code",
   "execution_count": 57,
   "metadata": {},
   "outputs": [
    {
     "name": "stdout",
     "output_type": "stream",
     "text": [
      "Finished 754240f9-69ef-481c-8484-3de526bf96a3\n",
      "Finished 744c0219-e821-4c24-903e-92c25347da13\n",
      "Finished b9e0eaaa-1013-4a5f-97b7-f1aaa7a04442\n",
      "Finished 40597f35-77f2-4834-bc1c-7cba59be2597\n",
      "Finished 53bcbe13-1160-4bd3-9eda-ea946079142d\n",
      "Finished 8287d05f-f9d4-46d8-bb41-6a2e7b46987b\n",
      "Finished 8d8f365d-385d-4116-a0c7-d7aad8e5dc30\n",
      "Finished 1d932c05-9340-4f74-90a5-1820ae5c1646\n",
      "Finished ea4c6102-1123-41fc-b8ab-96f4295af3d0\n",
      "Finished a30fcd70-b96b-444a-baa1-2a340bb74cb0\n",
      "Finished b8f9aeaf-a914-45bb-9d7c-7ef83b82f8d3\n",
      "Finished 70fd143a-79e8-4b68-b779-4f3d97d9d56a\n",
      "Finished 33d4bd03-1a0b-4252-9ebb-9ab864a57a7e\n",
      "Finished 911bdf35-886c-451d-a26e-7b841cb17806\n",
      "Finished 934e0711-7abb-4a17-a73e-4e6b2b175547\n",
      "Finished 5a296223-a8fc-42bd-adc9-7e9382109c63\n",
      "Finished 03567661-8004-4986-82d5-a32582ed9a6e\n",
      "Finished dbab57c7-0154-4191-be76-5d7f60a0618e\n",
      "Finished 69afe09f-da8f-4d79-9a1e-fb2bddf27924\n",
      "Finished c7724594-f71e-4881-b524-da59460aeb7c\n"
     ]
    }
   ],
   "source": [
    "high_conv = df_conv[df_conv[\"conversationalist\"]>df_conv.conversationalist.quantile(0.75)]\n",
    "high_conv_selected = high_conv.sample(20)\n",
    "high_conv_ids = high_conv_selected[\"conversation\"]\n",
    "for conv_id in high_conv_ids:\n",
    "    conv_dir = f\"/Users/huayinluo/Downloads/candor(1)/{conv_id}/transcription/transcript_backbiter.csv\"\n",
    "    shutil.copy(conv_dir, f\"/Users/huayinluo/Desktop/code/natconv/high_conv/{conv_id}_transcript_backbiter.csv\")\n",
    "    print(f\"Finished {conv_id}\")"
   ]
  },
  {
   "cell_type": "code",
   "execution_count": 59,
   "metadata": {},
   "outputs": [
    {
     "data": {
      "text/plain": [
       "Text(0, 0.5, 'Conversation count')"
      ]
     },
     "execution_count": 59,
     "metadata": {},
     "output_type": "execute_result"
    },
    {
     "data": {
      "image/png": "[encoded data removed]",
      "text/plain": [
       "<Figure size 640x480 with 1 Axes>"
      ]
     },
     "metadata": {},
     "output_type": "display_data"
    }
   ],
   "source": [
    "plt.hist(high_conv_selected.conversationalist)\n",
    "plt.title(\"Conversationalist Rating for Top Quartile (Selected 20)\")\n",
    "plt.xlabel(\"Conversationalist rating\")\n",
    "plt.ylabel(\"Conversation count\")\n"
   ]
  },
  {
   "cell_type": "code",
   "execution_count": 60,
   "metadata": {},
   "outputs": [
    {
     "data": {
      "text/plain": [
       "Text(0, 0.5, 'Conversation count')"
      ]
     },
     "execution_count": 60,
     "metadata": {},
     "output_type": "execute_result"
    },
    {
     "data": {
      "image/png": "[encoded data removed]",
      "text/plain": [
       "<Figure size 640x480 with 1 Axes>"
      ]
     },
     "metadata": {},
     "output_type": "display_data"
    }
   ],
   "source": [
    "plt.hist(low_conv_selected.conversationalist)\n",
    "plt.title(\"Conversationalist Rating for Bottom Quartile (Selected 20)\")\n",
    "plt.xlabel(\"Conversationalist rating\")\n",
    "plt.ylabel(\"Conversation count\")"
   ]
  },
  {
   "cell_type": "code",
   "execution_count": 50,
   "metadata": {},
   "outputs": [],
   "source": [
    "data_dir = \"/Users/huayinluo/Downloads/candor(1)\""
   ]
  },
  {
   "cell_type": "code",
   "execution_count": null,
   "metadata": {},
   "outputs": [],
   "source": [
    "import os\n",
    "os.get"
   ]
  },
  {
   "cell_type": "code",
   "execution_count": 19,
   "metadata": {},
   "outputs": [
    {
     "data": {
      "text/plain": [
       "13    To what extent do you feel positive feelings (...\n",
       "14    To what extent do you feel positive affect (e....\n",
       "Name: text, dtype: object"
      ]
     },
     "execution_count": 19,
     "metadata": {},
     "output_type": "execute_result"
    }
   ],
   "source": [
    "datadict_df[datadict_df[\"column\"] == \"affect\"][\"text\"]"
   ]
  },
  {
   "cell_type": "code",
   "execution_count": 20,
   "metadata": {},
   "outputs": [
    {
     "data": {
      "text/plain": [
       "56"
      ]
     },
     "execution_count": 20,
     "metadata": {},
     "output_type": "execute_result"
    }
   ],
   "source": [
    "df[\"your_mind_wander\"].isnull().sum()"
   ]
  },
  {
   "cell_type": "code",
   "execution_count": 21,
   "metadata": {},
   "outputs": [
    {
     "data": {
      "text/plain": [
       "55"
      ]
     },
     "execution_count": 21,
     "metadata": {},
     "output_type": "execute_result"
    }
   ],
   "source": [
    "df[\"overall_affect\"].isnull().sum()"
   ]
  },
  {
   "cell_type": "code",
   "execution_count": 22,
   "metadata": {},
   "outputs": [
    {
     "ename": "AttributeError",
     "evalue": "module 'matplotlib' has no attribute 'hist'",
     "output_type": "error",
     "traceback": [
      "\u001b[0;31m---------------------------------------------------------------------------\u001b[0m",
      "\u001b[0;31mAttributeError\u001b[0m                            Traceback (most recent call last)",
      "Cell \u001b[0;32mIn[22], line 1\u001b[0m\n\u001b[0;32m----> 1\u001b[0m plt\u001b[39m.\u001b[39;49mhist(df\u001b[39m.\u001b[39moverall_affect)\n",
      "File \u001b[0;32m/Library/Frameworks/Python.framework/Versions/3.10/lib/python3.10/site-packages/matplotlib/_api/__init__.py:222\u001b[0m, in \u001b[0;36mcaching_module_getattr.<locals>.__getattr__\u001b[0;34m(name)\u001b[0m\n\u001b[1;32m    220\u001b[0m \u001b[39mif\u001b[39;00m name \u001b[39min\u001b[39;00m props:\n\u001b[1;32m    221\u001b[0m     \u001b[39mreturn\u001b[39;00m props[name]\u001b[39m.\u001b[39m\u001b[39m__get__\u001b[39m(instance)\n\u001b[0;32m--> 222\u001b[0m \u001b[39mraise\u001b[39;00m \u001b[39mAttributeError\u001b[39;00m(\n\u001b[1;32m    223\u001b[0m     \u001b[39mf\u001b[39m\u001b[39m\"\u001b[39m\u001b[39mmodule \u001b[39m\u001b[39m{\u001b[39;00m\u001b[39mcls\u001b[39m\u001b[39m.\u001b[39m\u001b[39m__module__\u001b[39m\u001b[39m!r}\u001b[39;00m\u001b[39m has no attribute \u001b[39m\u001b[39m{\u001b[39;00mname\u001b[39m!r}\u001b[39;00m\u001b[39m\"\u001b[39m)\n",
      "\u001b[0;31mAttributeError\u001b[0m: module 'matplotlib' has no attribute 'hist'"
     ]
    }
   ],
   "source": [
    "plt.hist(df.overall_affect)"
   ]
  },
  {
   "cell_type": "code",
   "execution_count": null,
   "metadata": {},
   "outputs": [
    {
     "data": {
      "text/plain": [
       "(array([   2.,    3.,    5.,   75.,  163., 1684., 1114.,  150.,   59.,\n",
       "           2.]),\n",
       " array([-8. , -6.4, -4.8, -3.2, -1.6,  0. ,  1.6,  3.2,  4.8,  6.4,  8. ]),\n",
       " <BarContainer object of 10 artists>)"
      ]
     },
     "execution_count": 68,
     "metadata": {},
     "output_type": "execute_result"
    },
    {
     "data": {
      "image/png": "[encoded data removed]",
      "text/plain": [
       "<Figure size 640x480 with 1 Axes>"
      ]
     },
     "metadata": {},
     "output_type": "display_data"
    }
   ],
   "source": [
    "plt.hist(df[\"affect_change\"])"
   ]
  },
  {
   "cell_type": "code",
   "execution_count": null,
   "metadata": {},
   "outputs": [],
   "source": [
    "df.cor"
   ]
  },
  {
   "attachments": {},
   "cell_type": "markdown",
   "metadata": {},
   "source": [
    "# Backchannels Analysis"
   ]
  },
  {
   "attachments": {},
   "cell_type": "markdown",
   "metadata": {},
   "source": [
    "## New Variables"
   ]
  },
  {
   "cell_type": "code",
   "execution_count": null,
   "metadata": {},
   "outputs": [],
   "source": [
    "import matplotlib.pyplot as plt"
   ]
  },
  {
   "attachments": {},
   "cell_type": "markdown",
   "metadata": {},
   "source": [
    "### Mood Change"
   ]
  },
  {
   "cell_type": "code",
   "execution_count": null,
   "metadata": {},
   "outputs": [
    {
     "data": {
      "text/plain": [
       "55"
      ]
     },
     "execution_count": 50,
     "metadata": {},
     "output_type": "execute_result"
    }
   ],
   "source": [
    "df[\"end_affect\"].isnull().sum()"
   ]
  },
  {
   "cell_type": "code",
   "execution_count": null,
   "metadata": {},
   "outputs": [],
   "source": [
    "df[\"affect_change\"] = df[\"end_affect\"] - df[\"begin_affect\"]\n",
    "df[\"affect_change_is_positive\"] = np.where(df[\"affect_change\"] > 0, 1, 0)\n",
    "df[\"affect_change_sign\"] = np.where(df[\"affect_change\"] > 0, 1, np.where(df[\"affect_change\"] < 0, -1, 0))\n",
    "df[\"arousal_change\"] = df[\"end_arousal\"] - df[\"begin_arousal\"]\n",
    "df[\"arousal_change_is_positive\"] = np.where(df[\"arousal_change\"] > 0, 1, 0)\n",
    "df[\"arousal_change_sign\"] = np.where(df[\"arousal_change\"] > 0, 1, np.where(df[\"arousal_change\"] < 0, -1, 0))"
   ]
  },
  {
   "cell_type": "code",
   "execution_count": null,
   "metadata": {},
   "outputs": [
    {
     "data": {
      "text/plain": [
       "(3257, 233)"
      ]
     },
     "execution_count": 84,
     "metadata": {},
     "output_type": "execute_result"
    }
   ],
   "source": [
    "df_selected = df[df[\"end_affect\"].notnull()].copy()\n",
    "df_selected.shape"
   ]
  },
  {
   "cell_type": "code",
   "execution_count": null,
   "metadata": {},
   "outputs": [
    {
     "data": {
      "text/plain": [
       "(array([  1.,   1.,   2.,   1.,   0.,   5.,  22.,  53., 163.,   0., 856.,\n",
       "        828., 712., 402.,   0., 150.,  48.,  11.,   1.,   1.]),\n",
       " array([-8. , -7.2, -6.4, -5.6, -4.8, -4. , -3.2, -2.4, -1.6, -0.8,  0. ,\n",
       "         0.8,  1.6,  2.4,  3.2,  4. ,  4.8,  5.6,  6.4,  7.2,  8. ]),\n",
       " <BarContainer object of 20 artists>)"
      ]
     },
     "execution_count": 85,
     "metadata": {},
     "output_type": "execute_result"
    },
    {
     "data": {
      "image/png": "[encoded data removed]",
      "text/plain": [
       "<Figure size 640x480 with 1 Axes>"
      ]
     },
     "metadata": {},
     "output_type": "display_data"
    }
   ],
   "source": [
    "plt.hist(df_selected[\"affect_change\"], bins=20)"
   ]
  },
  {
   "attachments": {},
   "cell_type": "markdown",
   "metadata": {},
   "source": [
    "### "
   ]
  },
  {
   "attachments": {},
   "cell_type": "markdown",
   "metadata": {},
   "source": [
    "## Correlations"
   ]
  },
  {
   "attachments": {},
   "cell_type": "markdown",
   "metadata": {},
   "source": [
    "Measures the *strength* and *direction* of correlation between two variables."
   ]
  },
  {
   "attachments": {},
   "cell_type": "markdown",
   "metadata": {},
   "source": [
    "Pearman's coefficient: linear relationship\n",
    "Spearman's coefficient: non-linear relationship"
   ]
  },
  {
   "cell_type": "code",
   "execution_count": null,
   "metadata": {},
   "outputs": [],
   "source": [
    "from typing import Optional\n",
    "import matplotlib.pyplot as plt\n",
    "from scipy.stats import spearmanr\n",
    "\n",
    "np.random.seed(0)"
   ]
  },
  {
   "cell_type": "code",
   "execution_count": null,
   "metadata": {},
   "outputs": [],
   "source": [
    "def get_var_description(var: str):\n",
    "    \"\"\"Return description for variable from data dictionary\n",
    "\n",
    "    Args:\n",
    "        var (str): variable of interest\n",
    "\n",
    "    Returns:\n",
    "        str: description for variable\n",
    "    \"\"\"\n",
    "    return datadict_df[datadict_df['column']==var].iloc[0]['text']"
   ]
  },
  {
   "cell_type": "code",
   "execution_count": null,
   "metadata": {},
   "outputs": [],
   "source": [
    "def get_lin_reg(df: pd.DataFrame, var_x: str, var_y: str, description: str = \"\", logistic: bool = False):\n",
    "    \"\"\" Plots linear regression plot between two variables and returns fitted regression model\n",
    "\n",
    "    Args:\n",
    "        df (pd.DataFrame): dataframe\n",
    "        var_x (str): feature variable\n",
    "        var_y (str): outcome variable\n",
    "        description: subtitle of plot\n",
    "        logistic: whether to use logistic regression\n",
    "\n",
    "    Returns:\n",
    "        RegressionResultsWrapper: fitted regression model\n",
    "    \"\"\"\n",
    "    reg = smf.ols(f'{var_y} ~ {var_x}', data = df).fit()\n",
    "    plt.figure()\n",
    "    sns.regplot(y=var_y, x=var_x, data=df)\n",
    "    try:\n",
    "        title = get_var_description(var_y)\n",
    "    except:\n",
    "        title = \"\"\n",
    "    plt.title(f\"Change in {var_y} with change in {var_x} \\n '{title + description}'\")\n",
    "    plt.savefig(f\"{var_y}_vs_{var_x}.png\")\n",
    "    plt.close()\n",
    "    return reg"
   ]
  },
  {
   "cell_type": "code",
   "execution_count": null,
   "metadata": {},
   "outputs": [],
   "source": [
    "vars = ['your_mind_wander',\n",
    "'my_mind_wander',\n",
    "'affect',\n",
    "'best_affect',\n",
    "'affect_change',\n",
    "'affect_change_is_positive',\n",
    "'how_enjoyable',\n",
    "'my_partner_was_clear_and_coherent',\n",
    "'conversationalist'\n",
    "]"
   ]
  },
  {
   "cell_type": "code",
   "execution_count": null,
   "metadata": {},
   "outputs": [
    {
     "data": {
      "text/html": [
       "<table class=\"simpletable\">\n",
       "<caption>OLS Regression Results</caption>\n",
       "<tr>\n",
       "  <th>Dep. Variable:</th>       <td>best_affect</td>   <th>  R-squared:         </th> <td>   0.007</td> \n",
       "</tr>\n",
       "<tr>\n",
       "  <th>Model:</th>                   <td>OLS</td>       <th>  Adj. R-squared:    </th> <td>   0.007</td> \n",
       "</tr>\n",
       "<tr>\n",
       "  <th>Method:</th>             <td>Least Squares</td>  <th>  F-statistic:       </th> <td>   23.78</td> \n",
       "</tr>\n",
       "<tr>\n",
       "  <th>Date:</th>             <td>Thu, 15 Jun 2023</td> <th>  Prob (F-statistic):</th> <td>1.13e-06</td> \n",
       "</tr>\n",
       "<tr>\n",
       "  <th>Time:</th>                 <td>19:48:33</td>     <th>  Log-Likelihood:    </th> <td> -5156.9</td> \n",
       "</tr>\n",
       "<tr>\n",
       "  <th>No. Observations:</th>      <td>  3257</td>      <th>  AIC:               </th> <td>1.032e+04</td>\n",
       "</tr>\n",
       "<tr>\n",
       "  <th>Df Residuals:</th>          <td>  3255</td>      <th>  BIC:               </th> <td>1.033e+04</td>\n",
       "</tr>\n",
       "<tr>\n",
       "  <th>Df Model:</th>              <td>     1</td>      <th>                     </th>     <td> </td>    \n",
       "</tr>\n",
       "<tr>\n",
       "  <th>Covariance Type:</th>      <td>nonrobust</td>    <th>                     </th>     <td> </td>    \n",
       "</tr>\n",
       "</table>\n",
       "<table class=\"simpletable\">\n",
       "<tr>\n",
       "            <td></td>              <th>coef</th>     <th>std err</th>      <th>t</th>      <th>P>|t|</th>  <th>[0.025</th>    <th>0.975]</th>  \n",
       "</tr>\n",
       "<tr>\n",
       "  <th>Intercept</th>            <td>    7.6539</td> <td>    0.042</td> <td>  183.329</td> <td> 0.000</td> <td>    7.572</td> <td>    7.736</td>\n",
       "</tr>\n",
       "<tr>\n",
       "  <th>backchannel_recieved</th> <td>    0.0012</td> <td>    0.000</td> <td>    4.876</td> <td> 0.000</td> <td>    0.001</td> <td>    0.002</td>\n",
       "</tr>\n",
       "</table>\n",
       "<table class=\"simpletable\">\n",
       "<tr>\n",
       "  <th>Omnibus:</th>       <td>512.323</td> <th>  Durbin-Watson:     </th> <td>   1.866</td> \n",
       "</tr>\n",
       "<tr>\n",
       "  <th>Prob(Omnibus):</th> <td> 0.000</td>  <th>  Jarque-Bera (JB):  </th> <td> 845.310</td> \n",
       "</tr>\n",
       "<tr>\n",
       "  <th>Skew:</th>          <td>-1.048</td>  <th>  Prob(JB):          </th> <td>2.77e-184</td>\n",
       "</tr>\n",
       "<tr>\n",
       "  <th>Kurtosis:</th>      <td> 4.356</td>  <th>  Cond. No.          </th> <td>    331.</td> \n",
       "</tr>\n",
       "</table><br/><br/>Notes:<br/>[1] Standard Errors assume that the covariance matrix of the errors is correctly specified."
      ],
      "text/latex": [
       "\\begin{center}\n",
       "\\begin{tabular}{lclc}\n",
       "\\toprule\n",
       "\\textbf{Dep. Variable:}        &   best\\_affect   & \\textbf{  R-squared:         } &     0.007   \\\\\n",
       "\\textbf{Model:}                &       OLS        & \\textbf{  Adj. R-squared:    } &     0.007   \\\\\n",
       "\\textbf{Method:}               &  Least Squares   & \\textbf{  F-statistic:       } &     23.78   \\\\\n",
       "\\textbf{Date:}                 & Thu, 15 Jun 2023 & \\textbf{  Prob (F-statistic):} &  1.13e-06   \\\\\n",
       "\\textbf{Time:}                 &     19:48:33     & \\textbf{  Log-Likelihood:    } &   -5156.9   \\\\\n",
       "\\textbf{No. Observations:}     &        3257      & \\textbf{  AIC:               } & 1.032e+04   \\\\\n",
       "\\textbf{Df Residuals:}         &        3255      & \\textbf{  BIC:               } & 1.033e+04   \\\\\n",
       "\\textbf{Df Model:}             &           1      & \\textbf{                     } &             \\\\\n",
       "\\textbf{Covariance Type:}      &    nonrobust     & \\textbf{                     } &             \\\\\n",
       "\\bottomrule\n",
       "\\end{tabular}\n",
       "\\begin{tabular}{lcccccc}\n",
       "                               & \\textbf{coef} & \\textbf{std err} & \\textbf{t} & \\textbf{P$> |$t$|$} & \\textbf{[0.025} & \\textbf{0.975]}  \\\\\n",
       "\\midrule\n",
       "\\textbf{Intercept}             &       7.6539  &        0.042     &   183.329  &         0.000        &        7.572    &        7.736     \\\\\n",
       "\\textbf{backchannel\\_recieved} &       0.0012  &        0.000     &     4.876  &         0.000        &        0.001    &        0.002     \\\\\n",
       "\\bottomrule\n",
       "\\end{tabular}\n",
       "\\begin{tabular}{lclc}\n",
       "\\textbf{Omnibus:}       & 512.323 & \\textbf{  Durbin-Watson:     } &     1.866  \\\\\n",
       "\\textbf{Prob(Omnibus):} &   0.000 & \\textbf{  Jarque-Bera (JB):  } &   845.310  \\\\\n",
       "\\textbf{Skew:}          &  -1.048 & \\textbf{  Prob(JB):          } & 2.77e-184  \\\\\n",
       "\\textbf{Kurtosis:}      &   4.356 & \\textbf{  Cond. No.          } &      331.  \\\\\n",
       "\\bottomrule\n",
       "\\end{tabular}\n",
       "%\\caption{OLS Regression Results}\n",
       "\\end{center}\n",
       "\n",
       "Notes: \\newline\n",
       " [1] Standard Errors assume that the covariance matrix of the errors is correctly specified."
      ],
      "text/plain": [
       "<class 'statsmodels.iolib.summary.Summary'>\n",
       "\"\"\"\n",
       "                            OLS Regression Results                            \n",
       "==============================================================================\n",
       "Dep. Variable:            best_affect   R-squared:                       0.007\n",
       "Model:                            OLS   Adj. R-squared:                  0.007\n",
       "Method:                 Least Squares   F-statistic:                     23.78\n",
       "Date:                Thu, 15 Jun 2023   Prob (F-statistic):           1.13e-06\n",
       "Time:                        19:48:33   Log-Likelihood:                -5156.9\n",
       "No. Observations:                3257   AIC:                         1.032e+04\n",
       "Df Residuals:                    3255   BIC:                         1.033e+04\n",
       "Df Model:                           1                                         \n",
       "Covariance Type:            nonrobust                                         \n",
       "========================================================================================\n",
       "                           coef    std err          t      P>|t|      [0.025      0.975]\n",
       "----------------------------------------------------------------------------------------\n",
       "Intercept                7.6539      0.042    183.329      0.000       7.572       7.736\n",
       "backchannel_recieved     0.0012      0.000      4.876      0.000       0.001       0.002\n",
       "==============================================================================\n",
       "Omnibus:                      512.323   Durbin-Watson:                   1.866\n",
       "Prob(Omnibus):                  0.000   Jarque-Bera (JB):              845.310\n",
       "Skew:                          -1.048   Prob(JB):                    2.77e-184\n",
       "Kurtosis:                       4.356   Cond. No.                         331.\n",
       "==============================================================================\n",
       "\n",
       "Notes:\n",
       "[1] Standard Errors assume that the covariance matrix of the errors is correctly specified.\n",
       "\"\"\""
      ]
     },
     "execution_count": 90,
     "metadata": {},
     "output_type": "execute_result"
    }
   ],
   "source": [
    "reg = get_lin_reg(df, \"backchannel_recieved\", \"best_affect\", \"\")\n",
    "reg.summary()"
   ]
  },
  {
   "cell_type": "code",
   "execution_count": null,
   "metadata": {},
   "outputs": [
    {
     "data": {
      "text/html": [
       "<table class=\"simpletable\">\n",
       "<caption>OLS Regression Results</caption>\n",
       "<tr>\n",
       "  <th>Dep. Variable:</th>         <td>affect</td>      <th>  R-squared:         </th> <td>   0.010</td> \n",
       "</tr>\n",
       "<tr>\n",
       "  <th>Model:</th>                   <td>OLS</td>       <th>  Adj. R-squared:    </th> <td>   0.010</td> \n",
       "</tr>\n",
       "<tr>\n",
       "  <th>Method:</th>             <td>Least Squares</td>  <th>  F-statistic:       </th> <td>   34.52</td> \n",
       "</tr>\n",
       "<tr>\n",
       "  <th>Date:</th>             <td>Thu, 15 Jun 2023</td> <th>  Prob (F-statistic):</th> <td>4.65e-09</td> \n",
       "</tr>\n",
       "<tr>\n",
       "  <th>Time:</th>                 <td>19:48:33</td>     <th>  Log-Likelihood:    </th> <td> -5505.3</td> \n",
       "</tr>\n",
       "<tr>\n",
       "  <th>No. Observations:</th>      <td>  3257</td>      <th>  AIC:               </th> <td>1.101e+04</td>\n",
       "</tr>\n",
       "<tr>\n",
       "  <th>Df Residuals:</th>          <td>  3255</td>      <th>  BIC:               </th> <td>1.103e+04</td>\n",
       "</tr>\n",
       "<tr>\n",
       "  <th>Df Model:</th>              <td>     1</td>      <th>                     </th>     <td> </td>    \n",
       "</tr>\n",
       "<tr>\n",
       "  <th>Covariance Type:</th>      <td>nonrobust</td>    <th>                     </th>     <td> </td>    \n",
       "</tr>\n",
       "</table>\n",
       "<table class=\"simpletable\">\n",
       "<tr>\n",
       "            <td></td>              <th>coef</th>     <th>std err</th>      <th>t</th>      <th>P>|t|</th>  <th>[0.025</th>    <th>0.975]</th>  \n",
       "</tr>\n",
       "<tr>\n",
       "  <th>Intercept</th>            <td>    7.0624</td> <td>    0.046</td> <td>  152.001</td> <td> 0.000</td> <td>    6.971</td> <td>    7.154</td>\n",
       "</tr>\n",
       "<tr>\n",
       "  <th>backchannel_recieved</th> <td>    0.0017</td> <td>    0.000</td> <td>    5.875</td> <td> 0.000</td> <td>    0.001</td> <td>    0.002</td>\n",
       "</tr>\n",
       "</table>\n",
       "<table class=\"simpletable\">\n",
       "<tr>\n",
       "  <th>Omnibus:</th>       <td>192.005</td> <th>  Durbin-Watson:     </th> <td>   1.819</td>\n",
       "</tr>\n",
       "<tr>\n",
       "  <th>Prob(Omnibus):</th> <td> 0.000</td>  <th>  Jarque-Bera (JB):  </th> <td> 226.118</td>\n",
       "</tr>\n",
       "<tr>\n",
       "  <th>Skew:</th>          <td>-0.623</td>  <th>  Prob(JB):          </th> <td>7.93e-50</td>\n",
       "</tr>\n",
       "<tr>\n",
       "  <th>Kurtosis:</th>      <td> 3.340</td>  <th>  Cond. No.          </th> <td>    331.</td>\n",
       "</tr>\n",
       "</table><br/><br/>Notes:<br/>[1] Standard Errors assume that the covariance matrix of the errors is correctly specified."
      ],
      "text/latex": [
       "\\begin{center}\n",
       "\\begin{tabular}{lclc}\n",
       "\\toprule\n",
       "\\textbf{Dep. Variable:}        &      affect      & \\textbf{  R-squared:         } &     0.010   \\\\\n",
       "\\textbf{Model:}                &       OLS        & \\textbf{  Adj. R-squared:    } &     0.010   \\\\\n",
       "\\textbf{Method:}               &  Least Squares   & \\textbf{  F-statistic:       } &     34.52   \\\\\n",
       "\\textbf{Date:}                 & Thu, 15 Jun 2023 & \\textbf{  Prob (F-statistic):} &  4.65e-09   \\\\\n",
       "\\textbf{Time:}                 &     19:48:33     & \\textbf{  Log-Likelihood:    } &   -5505.3   \\\\\n",
       "\\textbf{No. Observations:}     &        3257      & \\textbf{  AIC:               } & 1.101e+04   \\\\\n",
       "\\textbf{Df Residuals:}         &        3255      & \\textbf{  BIC:               } & 1.103e+04   \\\\\n",
       "\\textbf{Df Model:}             &           1      & \\textbf{                     } &             \\\\\n",
       "\\textbf{Covariance Type:}      &    nonrobust     & \\textbf{                     } &             \\\\\n",
       "\\bottomrule\n",
       "\\end{tabular}\n",
       "\\begin{tabular}{lcccccc}\n",
       "                               & \\textbf{coef} & \\textbf{std err} & \\textbf{t} & \\textbf{P$> |$t$|$} & \\textbf{[0.025} & \\textbf{0.975]}  \\\\\n",
       "\\midrule\n",
       "\\textbf{Intercept}             &       7.0624  &        0.046     &   152.001  &         0.000        &        6.971    &        7.154     \\\\\n",
       "\\textbf{backchannel\\_recieved} &       0.0017  &        0.000     &     5.875  &         0.000        &        0.001    &        0.002     \\\\\n",
       "\\bottomrule\n",
       "\\end{tabular}\n",
       "\\begin{tabular}{lclc}\n",
       "\\textbf{Omnibus:}       & 192.005 & \\textbf{  Durbin-Watson:     } &    1.819  \\\\\n",
       "\\textbf{Prob(Omnibus):} &   0.000 & \\textbf{  Jarque-Bera (JB):  } &  226.118  \\\\\n",
       "\\textbf{Skew:}          &  -0.623 & \\textbf{  Prob(JB):          } & 7.93e-50  \\\\\n",
       "\\textbf{Kurtosis:}      &   3.340 & \\textbf{  Cond. No.          } &     331.  \\\\\n",
       "\\bottomrule\n",
       "\\end{tabular}\n",
       "%\\caption{OLS Regression Results}\n",
       "\\end{center}\n",
       "\n",
       "Notes: \\newline\n",
       " [1] Standard Errors assume that the covariance matrix of the errors is correctly specified."
      ],
      "text/plain": [
       "<class 'statsmodels.iolib.summary.Summary'>\n",
       "\"\"\"\n",
       "                            OLS Regression Results                            \n",
       "==============================================================================\n",
       "Dep. Variable:                 affect   R-squared:                       0.010\n",
       "Model:                            OLS   Adj. R-squared:                  0.010\n",
       "Method:                 Least Squares   F-statistic:                     34.52\n",
       "Date:                Thu, 15 Jun 2023   Prob (F-statistic):           4.65e-09\n",
       "Time:                        19:48:33   Log-Likelihood:                -5505.3\n",
       "No. Observations:                3257   AIC:                         1.101e+04\n",
       "Df Residuals:                    3255   BIC:                         1.103e+04\n",
       "Df Model:                           1                                         \n",
       "Covariance Type:            nonrobust                                         \n",
       "========================================================================================\n",
       "                           coef    std err          t      P>|t|      [0.025      0.975]\n",
       "----------------------------------------------------------------------------------------\n",
       "Intercept                7.0624      0.046    152.001      0.000       6.971       7.154\n",
       "backchannel_recieved     0.0017      0.000      5.875      0.000       0.001       0.002\n",
       "==============================================================================\n",
       "Omnibus:                      192.005   Durbin-Watson:                   1.819\n",
       "Prob(Omnibus):                  0.000   Jarque-Bera (JB):              226.118\n",
       "Skew:                          -0.623   Prob(JB):                     7.93e-50\n",
       "Kurtosis:                       3.340   Cond. No.                         331.\n",
       "==============================================================================\n",
       "\n",
       "Notes:\n",
       "[1] Standard Errors assume that the covariance matrix of the errors is correctly specified.\n",
       "\"\"\""
      ]
     },
     "execution_count": 91,
     "metadata": {},
     "output_type": "execute_result"
    }
   ],
   "source": [
    "reg = get_lin_reg(df, \"backchannel_recieved\", \"affect\", \"\")\n",
    "reg.summary()"
   ]
  },
  {
   "attachments": {},
   "cell_type": "markdown",
   "metadata": {},
   "source": [
    "# Next"
   ]
  },
  {
   "cell_type": "code",
   "execution_count": null,
   "metadata": {},
   "outputs": [],
   "source": []
  },
  {
   "attachments": {},
   "cell_type": "markdown",
   "metadata": {},
   "source": [
    "We can see that as backchannel increases, the distribution of the end_affect is more right skewed. The lowest end affect is smaller"
   ]
  },
  {
   "cell_type": "code",
   "execution_count": null,
   "metadata": {},
   "outputs": [
    {
     "data": {
      "text/plain": [
       "nan"
      ]
     },
     "execution_count": 92,
     "metadata": {},
     "output_type": "execute_result"
    }
   ],
   "source": [
    "corr, _ = spearmanr(df.backchannel_count, df.how_long_other)\n",
    "corr"
   ]
  },
  {
   "attachments": {},
   "cell_type": "markdown",
   "metadata": {},
   "source": [
    "## Binarize Outcome (ex. Mood Change)"
   ]
  },
  {
   "cell_type": "code",
   "execution_count": null,
   "metadata": {},
   "outputs": [
    {
     "data": {
      "text/plain": [
       "0.0700145996864357"
      ]
     },
     "execution_count": 93,
     "metadata": {},
     "output_type": "execute_result"
    }
   ],
   "source": [
    "df[\"backchannel_recieved\"].corr(df[\"overall_affect\"])"
   ]
  },
  {
   "cell_type": "code",
   "execution_count": null,
   "metadata": {},
   "outputs": [
    {
     "data": {
      "text/plain": [
       "0.03551286294369532"
      ]
     },
     "execution_count": 94,
     "metadata": {},
     "output_type": "execute_result"
    }
   ],
   "source": [
    "df[\"backchannel_recieved\"].corr(df[\"affect_change\"])"
   ]
  },
  {
   "cell_type": "code",
   "execution_count": null,
   "metadata": {},
   "outputs": [
    {
     "data": {
      "text/html": [
       "<table class=\"simpletable\">\n",
       "<caption>OLS Regression Results</caption>\n",
       "<tr>\n",
       "  <th>Dep. Variable:</th>      <td>affect_change</td>  <th>  R-squared:         </th> <td>   0.001</td> \n",
       "</tr>\n",
       "<tr>\n",
       "  <th>Model:</th>                   <td>OLS</td>       <th>  Adj. R-squared:    </th> <td>   0.001</td> \n",
       "</tr>\n",
       "<tr>\n",
       "  <th>Method:</th>             <td>Least Squares</td>  <th>  F-statistic:       </th> <td>   4.110</td> \n",
       "</tr>\n",
       "<tr>\n",
       "  <th>Date:</th>             <td>Thu, 15 Jun 2023</td> <th>  Prob (F-statistic):</th>  <td>0.0427</td>  \n",
       "</tr>\n",
       "<tr>\n",
       "  <th>Time:</th>                 <td>19:48:36</td>     <th>  Log-Likelihood:    </th> <td> -5950.0</td> \n",
       "</tr>\n",
       "<tr>\n",
       "  <th>No. Observations:</th>      <td>  3257</td>      <th>  AIC:               </th> <td>1.190e+04</td>\n",
       "</tr>\n",
       "<tr>\n",
       "  <th>Df Residuals:</th>          <td>  3255</td>      <th>  BIC:               </th> <td>1.192e+04</td>\n",
       "</tr>\n",
       "<tr>\n",
       "  <th>Df Model:</th>              <td>     1</td>      <th>                     </th>     <td> </td>    \n",
       "</tr>\n",
       "<tr>\n",
       "  <th>Covariance Type:</th>      <td>nonrobust</td>    <th>                     </th>     <td> </td>    \n",
       "</tr>\n",
       "</table>\n",
       "<table class=\"simpletable\">\n",
       "<tr>\n",
       "            <td></td>              <th>coef</th>     <th>std err</th>      <th>t</th>      <th>P>|t|</th>  <th>[0.025</th>    <th>0.975]</th>  \n",
       "</tr>\n",
       "<tr>\n",
       "  <th>Intercept</th>            <td>    1.1318</td> <td>    0.053</td> <td>   21.251</td> <td> 0.000</td> <td>    1.027</td> <td>    1.236</td>\n",
       "</tr>\n",
       "<tr>\n",
       "  <th>backchannel_recieved</th> <td>    0.0007</td> <td>    0.000</td> <td>    2.027</td> <td> 0.043</td> <td> 2.17e-05</td> <td>    0.001</td>\n",
       "</tr>\n",
       "</table>\n",
       "<table class=\"simpletable\">\n",
       "<tr>\n",
       "  <th>Omnibus:</th>       <td>100.586</td> <th>  Durbin-Watson:     </th> <td>   1.932</td>\n",
       "</tr>\n",
       "<tr>\n",
       "  <th>Prob(Omnibus):</th> <td> 0.000</td>  <th>  Jarque-Bera (JB):  </th> <td> 264.607</td>\n",
       "</tr>\n",
       "<tr>\n",
       "  <th>Skew:</th>          <td> 0.017</td>  <th>  Prob(JB):          </th> <td>3.48e-58</td>\n",
       "</tr>\n",
       "<tr>\n",
       "  <th>Kurtosis:</th>      <td> 4.396</td>  <th>  Cond. No.          </th> <td>    331.</td>\n",
       "</tr>\n",
       "</table><br/><br/>Notes:<br/>[1] Standard Errors assume that the covariance matrix of the errors is correctly specified."
      ],
      "text/latex": [
       "\\begin{center}\n",
       "\\begin{tabular}{lclc}\n",
       "\\toprule\n",
       "\\textbf{Dep. Variable:}        &  affect\\_change  & \\textbf{  R-squared:         } &     0.001   \\\\\n",
       "\\textbf{Model:}                &       OLS        & \\textbf{  Adj. R-squared:    } &     0.001   \\\\\n",
       "\\textbf{Method:}               &  Least Squares   & \\textbf{  F-statistic:       } &     4.110   \\\\\n",
       "\\textbf{Date:}                 & Thu, 15 Jun 2023 & \\textbf{  Prob (F-statistic):} &   0.0427    \\\\\n",
       "\\textbf{Time:}                 &     19:48:36     & \\textbf{  Log-Likelihood:    } &   -5950.0   \\\\\n",
       "\\textbf{No. Observations:}     &        3257      & \\textbf{  AIC:               } & 1.190e+04   \\\\\n",
       "\\textbf{Df Residuals:}         &        3255      & \\textbf{  BIC:               } & 1.192e+04   \\\\\n",
       "\\textbf{Df Model:}             &           1      & \\textbf{                     } &             \\\\\n",
       "\\textbf{Covariance Type:}      &    nonrobust     & \\textbf{                     } &             \\\\\n",
       "\\bottomrule\n",
       "\\end{tabular}\n",
       "\\begin{tabular}{lcccccc}\n",
       "                               & \\textbf{coef} & \\textbf{std err} & \\textbf{t} & \\textbf{P$> |$t$|$} & \\textbf{[0.025} & \\textbf{0.975]}  \\\\\n",
       "\\midrule\n",
       "\\textbf{Intercept}             &       1.1318  &        0.053     &    21.251  &         0.000        &        1.027    &        1.236     \\\\\n",
       "\\textbf{backchannel\\_recieved} &       0.0007  &        0.000     &     2.027  &         0.043        &     2.17e-05    &        0.001     \\\\\n",
       "\\bottomrule\n",
       "\\end{tabular}\n",
       "\\begin{tabular}{lclc}\n",
       "\\textbf{Omnibus:}       & 100.586 & \\textbf{  Durbin-Watson:     } &    1.932  \\\\\n",
       "\\textbf{Prob(Omnibus):} &   0.000 & \\textbf{  Jarque-Bera (JB):  } &  264.607  \\\\\n",
       "\\textbf{Skew:}          &   0.017 & \\textbf{  Prob(JB):          } & 3.48e-58  \\\\\n",
       "\\textbf{Kurtosis:}      &   4.396 & \\textbf{  Cond. No.          } &     331.  \\\\\n",
       "\\bottomrule\n",
       "\\end{tabular}\n",
       "%\\caption{OLS Regression Results}\n",
       "\\end{center}\n",
       "\n",
       "Notes: \\newline\n",
       " [1] Standard Errors assume that the covariance matrix of the errors is correctly specified."
      ],
      "text/plain": [
       "<class 'statsmodels.iolib.summary.Summary'>\n",
       "\"\"\"\n",
       "                            OLS Regression Results                            \n",
       "==============================================================================\n",
       "Dep. Variable:          affect_change   R-squared:                       0.001\n",
       "Model:                            OLS   Adj. R-squared:                  0.001\n",
       "Method:                 Least Squares   F-statistic:                     4.110\n",
       "Date:                Thu, 15 Jun 2023   Prob (F-statistic):             0.0427\n",
       "Time:                        19:48:36   Log-Likelihood:                -5950.0\n",
       "No. Observations:                3257   AIC:                         1.190e+04\n",
       "Df Residuals:                    3255   BIC:                         1.192e+04\n",
       "Df Model:                           1                                         \n",
       "Covariance Type:            nonrobust                                         \n",
       "========================================================================================\n",
       "                           coef    std err          t      P>|t|      [0.025      0.975]\n",
       "----------------------------------------------------------------------------------------\n",
       "Intercept                1.1318      0.053     21.251      0.000       1.027       1.236\n",
       "backchannel_recieved     0.0007      0.000      2.027      0.043    2.17e-05       0.001\n",
       "==============================================================================\n",
       "Omnibus:                      100.586   Durbin-Watson:                   1.932\n",
       "Prob(Omnibus):                  0.000   Jarque-Bera (JB):              264.607\n",
       "Skew:                           0.017   Prob(JB):                     3.48e-58\n",
       "Kurtosis:                       4.396   Cond. No.                         331.\n",
       "==============================================================================\n",
       "\n",
       "Notes:\n",
       "[1] Standard Errors assume that the covariance matrix of the errors is correctly specified.\n",
       "\"\"\""
      ]
     },
     "execution_count": 95,
     "metadata": {},
     "output_type": "execute_result"
    }
   ],
   "source": [
    "reg = get_lin_reg(df_selected, \"backchannel_recieved\", \"affect_change\", \"Whether there is a positive affect change\")\n",
    "reg.summary()"
   ]
  },
  {
   "cell_type": "code",
   "execution_count": null,
   "metadata": {},
   "outputs": [
    {
     "data": {
      "text/html": [
       "<table class=\"simpletable\">\n",
       "<caption>OLS Regression Results</caption>\n",
       "<tr>\n",
       "  <th>Dep. Variable:</th>    <td>affect_change_is_positive</td> <th>  R-squared:         </th> <td>   0.003</td>\n",
       "</tr>\n",
       "<tr>\n",
       "  <th>Model:</th>                       <td>OLS</td>            <th>  Adj. R-squared:    </th> <td>   0.002</td>\n",
       "</tr>\n",
       "<tr>\n",
       "  <th>Method:</th>                 <td>Least Squares</td>       <th>  F-statistic:       </th> <td>   8.873</td>\n",
       "</tr>\n",
       "<tr>\n",
       "  <th>Date:</th>                 <td>Thu, 15 Jun 2023</td>      <th>  Prob (F-statistic):</th>  <td>0.00292</td>\n",
       "</tr>\n",
       "<tr>\n",
       "  <th>Time:</th>                     <td>19:48:36</td>          <th>  Log-Likelihood:    </th> <td> -2181.1</td>\n",
       "</tr>\n",
       "<tr>\n",
       "  <th>No. Observations:</th>          <td>  3257</td>           <th>  AIC:               </th> <td>   4366.</td>\n",
       "</tr>\n",
       "<tr>\n",
       "  <th>Df Residuals:</th>              <td>  3255</td>           <th>  BIC:               </th> <td>   4378.</td>\n",
       "</tr>\n",
       "<tr>\n",
       "  <th>Df Model:</th>                  <td>     1</td>           <th>                     </th>     <td> </td>   \n",
       "</tr>\n",
       "<tr>\n",
       "  <th>Covariance Type:</th>          <td>nonrobust</td>         <th>                     </th>     <td> </td>   \n",
       "</tr>\n",
       "</table>\n",
       "<table class=\"simpletable\">\n",
       "<tr>\n",
       "            <td></td>              <th>coef</th>     <th>std err</th>      <th>t</th>      <th>P>|t|</th>  <th>[0.025</th>    <th>0.975]</th>  \n",
       "</tr>\n",
       "<tr>\n",
       "  <th>Intercept</th>            <td>    0.6177</td> <td>    0.017</td> <td>   36.890</td> <td> 0.000</td> <td>    0.585</td> <td>    0.651</td>\n",
       "</tr>\n",
       "<tr>\n",
       "  <th>backchannel_recieved</th> <td>    0.0003</td> <td>    0.000</td> <td>    2.979</td> <td> 0.003</td> <td>    0.000</td> <td>    0.001</td>\n",
       "</tr>\n",
       "</table>\n",
       "<table class=\"simpletable\">\n",
       "<tr>\n",
       "  <th>Omnibus:</th>       <td>19367.442</td> <th>  Durbin-Watson:     </th> <td>   1.924</td> \n",
       "</tr>\n",
       "<tr>\n",
       "  <th>Prob(Omnibus):</th>  <td> 0.000</td>   <th>  Jarque-Bera (JB):  </th> <td> 566.554</td> \n",
       "</tr>\n",
       "<tr>\n",
       "  <th>Skew:</th>           <td>-0.678</td>   <th>  Prob(JB):          </th> <td>9.43e-124</td>\n",
       "</tr>\n",
       "<tr>\n",
       "  <th>Kurtosis:</th>       <td> 1.472</td>   <th>  Cond. No.          </th> <td>    331.</td> \n",
       "</tr>\n",
       "</table><br/><br/>Notes:<br/>[1] Standard Errors assume that the covariance matrix of the errors is correctly specified."
      ],
      "text/latex": [
       "\\begin{center}\n",
       "\\begin{tabular}{lclc}\n",
       "\\toprule\n",
       "\\textbf{Dep. Variable:}        & affect\\_change\\_is\\_positive & \\textbf{  R-squared:         } &     0.003   \\\\\n",
       "\\textbf{Model:}                &             OLS              & \\textbf{  Adj. R-squared:    } &     0.002   \\\\\n",
       "\\textbf{Method:}               &        Least Squares         & \\textbf{  F-statistic:       } &     8.873   \\\\\n",
       "\\textbf{Date:}                 &       Thu, 15 Jun 2023       & \\textbf{  Prob (F-statistic):} &  0.00292    \\\\\n",
       "\\textbf{Time:}                 &           19:48:36           & \\textbf{  Log-Likelihood:    } &   -2181.1   \\\\\n",
       "\\textbf{No. Observations:}     &              3257            & \\textbf{  AIC:               } &     4366.   \\\\\n",
       "\\textbf{Df Residuals:}         &              3255            & \\textbf{  BIC:               } &     4378.   \\\\\n",
       "\\textbf{Df Model:}             &                 1            & \\textbf{                     } &             \\\\\n",
       "\\textbf{Covariance Type:}      &          nonrobust           & \\textbf{                     } &             \\\\\n",
       "\\bottomrule\n",
       "\\end{tabular}\n",
       "\\begin{tabular}{lcccccc}\n",
       "                               & \\textbf{coef} & \\textbf{std err} & \\textbf{t} & \\textbf{P$> |$t$|$} & \\textbf{[0.025} & \\textbf{0.975]}  \\\\\n",
       "\\midrule\n",
       "\\textbf{Intercept}             &       0.6177  &        0.017     &    36.890  &         0.000        &        0.585    &        0.651     \\\\\n",
       "\\textbf{backchannel\\_recieved} &       0.0003  &        0.000     &     2.979  &         0.003        &        0.000    &        0.001     \\\\\n",
       "\\bottomrule\n",
       "\\end{tabular}\n",
       "\\begin{tabular}{lclc}\n",
       "\\textbf{Omnibus:}       & 19367.442 & \\textbf{  Durbin-Watson:     } &     1.924  \\\\\n",
       "\\textbf{Prob(Omnibus):} &    0.000  & \\textbf{  Jarque-Bera (JB):  } &   566.554  \\\\\n",
       "\\textbf{Skew:}          &   -0.678  & \\textbf{  Prob(JB):          } & 9.43e-124  \\\\\n",
       "\\textbf{Kurtosis:}      &    1.472  & \\textbf{  Cond. No.          } &      331.  \\\\\n",
       "\\bottomrule\n",
       "\\end{tabular}\n",
       "%\\caption{OLS Regression Results}\n",
       "\\end{center}\n",
       "\n",
       "Notes: \\newline\n",
       " [1] Standard Errors assume that the covariance matrix of the errors is correctly specified."
      ],
      "text/plain": [
       "<class 'statsmodels.iolib.summary.Summary'>\n",
       "\"\"\"\n",
       "                                OLS Regression Results                               \n",
       "=====================================================================================\n",
       "Dep. Variable:     affect_change_is_positive   R-squared:                       0.003\n",
       "Model:                                   OLS   Adj. R-squared:                  0.002\n",
       "Method:                        Least Squares   F-statistic:                     8.873\n",
       "Date:                       Thu, 15 Jun 2023   Prob (F-statistic):            0.00292\n",
       "Time:                               19:48:36   Log-Likelihood:                -2181.1\n",
       "No. Observations:                       3257   AIC:                             4366.\n",
       "Df Residuals:                           3255   BIC:                             4378.\n",
       "Df Model:                                  1                                         \n",
       "Covariance Type:                   nonrobust                                         \n",
       "========================================================================================\n",
       "                           coef    std err          t      P>|t|      [0.025      0.975]\n",
       "----------------------------------------------------------------------------------------\n",
       "Intercept                0.6177      0.017     36.890      0.000       0.585       0.651\n",
       "backchannel_recieved     0.0003      0.000      2.979      0.003       0.000       0.001\n",
       "==============================================================================\n",
       "Omnibus:                    19367.442   Durbin-Watson:                   1.924\n",
       "Prob(Omnibus):                  0.000   Jarque-Bera (JB):              566.554\n",
       "Skew:                          -0.678   Prob(JB):                    9.43e-124\n",
       "Kurtosis:                       1.472   Cond. No.                         331.\n",
       "==============================================================================\n",
       "\n",
       "Notes:\n",
       "[1] Standard Errors assume that the covariance matrix of the errors is correctly specified.\n",
       "\"\"\""
      ]
     },
     "execution_count": 96,
     "metadata": {},
     "output_type": "execute_result"
    }
   ],
   "source": [
    "reg = get_lin_reg(df_selected, \"backchannel_recieved\", \"affect_change_is_positive\", \"Whether there is a positive affect change\")\n",
    "reg.summary()"
   ]
  },
  {
   "cell_type": "code",
   "execution_count": null,
   "metadata": {},
   "outputs": [
    {
     "data": {
      "text/html": [
       "<table class=\"simpletable\">\n",
       "<caption>OLS Regression Results</caption>\n",
       "<tr>\n",
       "  <th>Dep. Variable:</th>    <td>affect_change_sign</td> <th>  R-squared:         </th> <td>   0.003</td>\n",
       "</tr>\n",
       "<tr>\n",
       "  <th>Model:</th>                    <td>OLS</td>        <th>  Adj. R-squared:    </th> <td>   0.002</td>\n",
       "</tr>\n",
       "<tr>\n",
       "  <th>Method:</th>              <td>Least Squares</td>   <th>  F-statistic:       </th> <td>   8.230</td>\n",
       "</tr>\n",
       "<tr>\n",
       "  <th>Date:</th>              <td>Thu, 15 Jun 2023</td>  <th>  Prob (F-statistic):</th>  <td>0.00415</td>\n",
       "</tr>\n",
       "<tr>\n",
       "  <th>Time:</th>                  <td>19:48:37</td>      <th>  Log-Likelihood:    </th> <td> -3105.0</td>\n",
       "</tr>\n",
       "<tr>\n",
       "  <th>No. Observations:</th>       <td>  3257</td>       <th>  AIC:               </th> <td>   6214.</td>\n",
       "</tr>\n",
       "<tr>\n",
       "  <th>Df Residuals:</th>           <td>  3255</td>       <th>  BIC:               </th> <td>   6226.</td>\n",
       "</tr>\n",
       "<tr>\n",
       "  <th>Df Model:</th>               <td>     1</td>       <th>                     </th>     <td> </td>   \n",
       "</tr>\n",
       "<tr>\n",
       "  <th>Covariance Type:</th>       <td>nonrobust</td>     <th>                     </th>     <td> </td>   \n",
       "</tr>\n",
       "</table>\n",
       "<table class=\"simpletable\">\n",
       "<tr>\n",
       "            <td></td>              <th>coef</th>     <th>std err</th>      <th>t</th>      <th>P>|t|</th>  <th>[0.025</th>    <th>0.975]</th>  \n",
       "</tr>\n",
       "<tr>\n",
       "  <th>Intercept</th>            <td>    0.5295</td> <td>    0.022</td> <td>   23.811</td> <td> 0.000</td> <td>    0.486</td> <td>    0.573</td>\n",
       "</tr>\n",
       "<tr>\n",
       "  <th>backchannel_recieved</th> <td>    0.0004</td> <td>    0.000</td> <td>    2.869</td> <td> 0.004</td> <td>    0.000</td> <td>    0.001</td>\n",
       "</tr>\n",
       "</table>\n",
       "<table class=\"simpletable\">\n",
       "<tr>\n",
       "  <th>Omnibus:</th>       <td>545.128</td> <th>  Durbin-Watson:     </th> <td>   1.921</td> \n",
       "</tr>\n",
       "<tr>\n",
       "  <th>Prob(Omnibus):</th> <td> 0.000</td>  <th>  Jarque-Bera (JB):  </th> <td> 856.577</td> \n",
       "</tr>\n",
       "<tr>\n",
       "  <th>Skew:</th>          <td>-1.240</td>  <th>  Prob(JB):          </th> <td>9.93e-187</td>\n",
       "</tr>\n",
       "<tr>\n",
       "  <th>Kurtosis:</th>      <td> 3.406</td>  <th>  Cond. No.          </th> <td>    331.</td> \n",
       "</tr>\n",
       "</table><br/><br/>Notes:<br/>[1] Standard Errors assume that the covariance matrix of the errors is correctly specified."
      ],
      "text/latex": [
       "\\begin{center}\n",
       "\\begin{tabular}{lclc}\n",
       "\\toprule\n",
       "\\textbf{Dep. Variable:}        & affect\\_change\\_sign & \\textbf{  R-squared:         } &     0.003   \\\\\n",
       "\\textbf{Model:}                &         OLS          & \\textbf{  Adj. R-squared:    } &     0.002   \\\\\n",
       "\\textbf{Method:}               &    Least Squares     & \\textbf{  F-statistic:       } &     8.230   \\\\\n",
       "\\textbf{Date:}                 &   Thu, 15 Jun 2023   & \\textbf{  Prob (F-statistic):} &  0.00415    \\\\\n",
       "\\textbf{Time:}                 &       19:48:37       & \\textbf{  Log-Likelihood:    } &   -3105.0   \\\\\n",
       "\\textbf{No. Observations:}     &          3257        & \\textbf{  AIC:               } &     6214.   \\\\\n",
       "\\textbf{Df Residuals:}         &          3255        & \\textbf{  BIC:               } &     6226.   \\\\\n",
       "\\textbf{Df Model:}             &             1        & \\textbf{                     } &             \\\\\n",
       "\\textbf{Covariance Type:}      &      nonrobust       & \\textbf{                     } &             \\\\\n",
       "\\bottomrule\n",
       "\\end{tabular}\n",
       "\\begin{tabular}{lcccccc}\n",
       "                               & \\textbf{coef} & \\textbf{std err} & \\textbf{t} & \\textbf{P$> |$t$|$} & \\textbf{[0.025} & \\textbf{0.975]}  \\\\\n",
       "\\midrule\n",
       "\\textbf{Intercept}             &       0.5295  &        0.022     &    23.811  &         0.000        &        0.486    &        0.573     \\\\\n",
       "\\textbf{backchannel\\_recieved} &       0.0004  &        0.000     &     2.869  &         0.004        &        0.000    &        0.001     \\\\\n",
       "\\bottomrule\n",
       "\\end{tabular}\n",
       "\\begin{tabular}{lclc}\n",
       "\\textbf{Omnibus:}       & 545.128 & \\textbf{  Durbin-Watson:     } &     1.921  \\\\\n",
       "\\textbf{Prob(Omnibus):} &   0.000 & \\textbf{  Jarque-Bera (JB):  } &   856.577  \\\\\n",
       "\\textbf{Skew:}          &  -1.240 & \\textbf{  Prob(JB):          } & 9.93e-187  \\\\\n",
       "\\textbf{Kurtosis:}      &   3.406 & \\textbf{  Cond. No.          } &      331.  \\\\\n",
       "\\bottomrule\n",
       "\\end{tabular}\n",
       "%\\caption{OLS Regression Results}\n",
       "\\end{center}\n",
       "\n",
       "Notes: \\newline\n",
       " [1] Standard Errors assume that the covariance matrix of the errors is correctly specified."
      ],
      "text/plain": [
       "<class 'statsmodels.iolib.summary.Summary'>\n",
       "\"\"\"\n",
       "                            OLS Regression Results                            \n",
       "==============================================================================\n",
       "Dep. Variable:     affect_change_sign   R-squared:                       0.003\n",
       "Model:                            OLS   Adj. R-squared:                  0.002\n",
       "Method:                 Least Squares   F-statistic:                     8.230\n",
       "Date:                Thu, 15 Jun 2023   Prob (F-statistic):            0.00415\n",
       "Time:                        19:48:37   Log-Likelihood:                -3105.0\n",
       "No. Observations:                3257   AIC:                             6214.\n",
       "Df Residuals:                    3255   BIC:                             6226.\n",
       "Df Model:                           1                                         \n",
       "Covariance Type:            nonrobust                                         \n",
       "========================================================================================\n",
       "                           coef    std err          t      P>|t|      [0.025      0.975]\n",
       "----------------------------------------------------------------------------------------\n",
       "Intercept                0.5295      0.022     23.811      0.000       0.486       0.573\n",
       "backchannel_recieved     0.0004      0.000      2.869      0.004       0.000       0.001\n",
       "==============================================================================\n",
       "Omnibus:                      545.128   Durbin-Watson:                   1.921\n",
       "Prob(Omnibus):                  0.000   Jarque-Bera (JB):              856.577\n",
       "Skew:                          -1.240   Prob(JB):                    9.93e-187\n",
       "Kurtosis:                       3.406   Cond. No.                         331.\n",
       "==============================================================================\n",
       "\n",
       "Notes:\n",
       "[1] Standard Errors assume that the covariance matrix of the errors is correctly specified.\n",
       "\"\"\""
      ]
     },
     "execution_count": 97,
     "metadata": {},
     "output_type": "execute_result"
    }
   ],
   "source": [
    "reg = get_lin_reg(df_selected, \"backchannel_recieved\", \"affect_change_sign\", \"Whether there is a positive affect change\")\n",
    "reg.summary()"
   ]
  },
  {
   "cell_type": "code",
   "execution_count": null,
   "metadata": {},
   "outputs": [],
   "source": [
    "df_has_change = df_selected[df_selected[\"affect_change\"] != 0]"
   ]
  },
  {
   "cell_type": "code",
   "execution_count": null,
   "metadata": {},
   "outputs": [
    {
     "data": {
      "text/html": [
       "<table class=\"simpletable\">\n",
       "<caption>OLS Regression Results</caption>\n",
       "<tr>\n",
       "  <th>Dep. Variable:</th>    <td>affect_change_sign</td> <th>  R-squared:         </th> <td>   0.002</td>\n",
       "</tr>\n",
       "<tr>\n",
       "  <th>Model:</th>                    <td>OLS</td>        <th>  Adj. R-squared:    </th> <td>   0.001</td>\n",
       "</tr>\n",
       "<tr>\n",
       "  <th>Method:</th>              <td>Least Squares</td>   <th>  F-statistic:       </th> <td>   3.752</td>\n",
       "</tr>\n",
       "<tr>\n",
       "  <th>Date:</th>              <td>Thu, 15 Jun 2023</td>  <th>  Prob (F-statistic):</th>  <td>0.0529</td> \n",
       "</tr>\n",
       "<tr>\n",
       "  <th>Time:</th>                  <td>19:48:37</td>      <th>  Log-Likelihood:    </th> <td> -2213.0</td>\n",
       "</tr>\n",
       "<tr>\n",
       "  <th>No. Observations:</th>       <td>  2401</td>       <th>  AIC:               </th> <td>   4430.</td>\n",
       "</tr>\n",
       "<tr>\n",
       "  <th>Df Residuals:</th>           <td>  2399</td>       <th>  BIC:               </th> <td>   4442.</td>\n",
       "</tr>\n",
       "<tr>\n",
       "  <th>Df Model:</th>               <td>     1</td>       <th>                     </th>     <td> </td>   \n",
       "</tr>\n",
       "<tr>\n",
       "  <th>Covariance Type:</th>       <td>nonrobust</td>     <th>                     </th>     <td> </td>   \n",
       "</tr>\n",
       "</table>\n",
       "<table class=\"simpletable\">\n",
       "<tr>\n",
       "            <td></td>              <th>coef</th>     <th>std err</th>      <th>t</th>      <th>P>|t|</th>  <th>[0.025</th>    <th>0.975]</th>  \n",
       "</tr>\n",
       "<tr>\n",
       "  <th>Intercept</th>            <td>    0.7499</td> <td>    0.026</td> <td>   29.212</td> <td> 0.000</td> <td>    0.700</td> <td>    0.800</td>\n",
       "</tr>\n",
       "<tr>\n",
       "  <th>backchannel_recieved</th> <td>    0.0003</td> <td>    0.000</td> <td>    1.937</td> <td> 0.053</td> <td>-3.72e-06</td> <td>    0.001</td>\n",
       "</tr>\n",
       "</table>\n",
       "<table class=\"simpletable\">\n",
       "<tr>\n",
       "  <th>Omnibus:</th>       <td>1209.991</td> <th>  Durbin-Watson:     </th> <td>   1.967</td>\n",
       "</tr>\n",
       "<tr>\n",
       "  <th>Prob(Omnibus):</th>  <td> 0.000</td>  <th>  Jarque-Bera (JB):  </th> <td>4993.300</td>\n",
       "</tr>\n",
       "<tr>\n",
       "  <th>Skew:</th>           <td>-2.601</td>  <th>  Prob(JB):          </th> <td>    0.00</td>\n",
       "</tr>\n",
       "<tr>\n",
       "  <th>Kurtosis:</th>       <td> 7.781</td>  <th>  Cond. No.          </th> <td>    341.</td>\n",
       "</tr>\n",
       "</table><br/><br/>Notes:<br/>[1] Standard Errors assume that the covariance matrix of the errors is correctly specified."
      ],
      "text/latex": [
       "\\begin{center}\n",
       "\\begin{tabular}{lclc}\n",
       "\\toprule\n",
       "\\textbf{Dep. Variable:}        & affect\\_change\\_sign & \\textbf{  R-squared:         } &     0.002   \\\\\n",
       "\\textbf{Model:}                &         OLS          & \\textbf{  Adj. R-squared:    } &     0.001   \\\\\n",
       "\\textbf{Method:}               &    Least Squares     & \\textbf{  F-statistic:       } &     3.752   \\\\\n",
       "\\textbf{Date:}                 &   Thu, 15 Jun 2023   & \\textbf{  Prob (F-statistic):} &   0.0529    \\\\\n",
       "\\textbf{Time:}                 &       19:48:37       & \\textbf{  Log-Likelihood:    } &   -2213.0   \\\\\n",
       "\\textbf{No. Observations:}     &          2401        & \\textbf{  AIC:               } &     4430.   \\\\\n",
       "\\textbf{Df Residuals:}         &          2399        & \\textbf{  BIC:               } &     4442.   \\\\\n",
       "\\textbf{Df Model:}             &             1        & \\textbf{                     } &             \\\\\n",
       "\\textbf{Covariance Type:}      &      nonrobust       & \\textbf{                     } &             \\\\\n",
       "\\bottomrule\n",
       "\\end{tabular}\n",
       "\\begin{tabular}{lcccccc}\n",
       "                               & \\textbf{coef} & \\textbf{std err} & \\textbf{t} & \\textbf{P$> |$t$|$} & \\textbf{[0.025} & \\textbf{0.975]}  \\\\\n",
       "\\midrule\n",
       "\\textbf{Intercept}             &       0.7499  &        0.026     &    29.212  &         0.000        &        0.700    &        0.800     \\\\\n",
       "\\textbf{backchannel\\_recieved} &       0.0003  &        0.000     &     1.937  &         0.053        &    -3.72e-06    &        0.001     \\\\\n",
       "\\bottomrule\n",
       "\\end{tabular}\n",
       "\\begin{tabular}{lclc}\n",
       "\\textbf{Omnibus:}       & 1209.991 & \\textbf{  Durbin-Watson:     } &    1.967  \\\\\n",
       "\\textbf{Prob(Omnibus):} &   0.000  & \\textbf{  Jarque-Bera (JB):  } & 4993.300  \\\\\n",
       "\\textbf{Skew:}          &  -2.601  & \\textbf{  Prob(JB):          } &     0.00  \\\\\n",
       "\\textbf{Kurtosis:}      &   7.781  & \\textbf{  Cond. No.          } &     341.  \\\\\n",
       "\\bottomrule\n",
       "\\end{tabular}\n",
       "%\\caption{OLS Regression Results}\n",
       "\\end{center}\n",
       "\n",
       "Notes: \\newline\n",
       " [1] Standard Errors assume that the covariance matrix of the errors is correctly specified."
      ],
      "text/plain": [
       "<class 'statsmodels.iolib.summary.Summary'>\n",
       "\"\"\"\n",
       "                            OLS Regression Results                            \n",
       "==============================================================================\n",
       "Dep. Variable:     affect_change_sign   R-squared:                       0.002\n",
       "Model:                            OLS   Adj. R-squared:                  0.001\n",
       "Method:                 Least Squares   F-statistic:                     3.752\n",
       "Date:                Thu, 15 Jun 2023   Prob (F-statistic):             0.0529\n",
       "Time:                        19:48:37   Log-Likelihood:                -2213.0\n",
       "No. Observations:                2401   AIC:                             4430.\n",
       "Df Residuals:                    2399   BIC:                             4442.\n",
       "Df Model:                           1                                         \n",
       "Covariance Type:            nonrobust                                         \n",
       "========================================================================================\n",
       "                           coef    std err          t      P>|t|      [0.025      0.975]\n",
       "----------------------------------------------------------------------------------------\n",
       "Intercept                0.7499      0.026     29.212      0.000       0.700       0.800\n",
       "backchannel_recieved     0.0003      0.000      1.937      0.053   -3.72e-06       0.001\n",
       "==============================================================================\n",
       "Omnibus:                     1209.991   Durbin-Watson:                   1.967\n",
       "Prob(Omnibus):                  0.000   Jarque-Bera (JB):             4993.300\n",
       "Skew:                          -2.601   Prob(JB):                         0.00\n",
       "Kurtosis:                       7.781   Cond. No.                         341.\n",
       "==============================================================================\n",
       "\n",
       "Notes:\n",
       "[1] Standard Errors assume that the covariance matrix of the errors is correctly specified.\n",
       "\"\"\""
      ]
     },
     "execution_count": 99,
     "metadata": {},
     "output_type": "execute_result"
    }
   ],
   "source": [
    "reg = get_lin_reg(df_has_change, \"backchannel_recieved\", \"affect_change_sign\", \"Whether there is a positive affect change\")\n",
    "reg.summary()"
   ]
  },
  {
   "cell_type": "code",
   "execution_count": null,
   "metadata": {},
   "outputs": [],
   "source": [
    "df_selected[\"backchannel_recieved_grouped\"] = np.where(df_selected[\"backchannel_recieved\"]>df_selected[\"backchannel_recieved\"].median(), 1, 0)"
   ]
  },
  {
   "cell_type": "code",
   "execution_count": null,
   "metadata": {},
   "outputs": [
    {
     "data": {
      "text/plain": [
       "Text(0, 0.5, 'Response Count')"
      ]
     },
     "execution_count": 101,
     "metadata": {},
     "output_type": "execute_result"
    },
    {
     "data": {
      "image/png": "[encoded data removed]",
      "text/plain": [
       "<Figure size 1000x500 with 1 Axes>"
      ]
     },
     "metadata": {},
     "output_type": "display_data"
    }
   ],
   "source": [
    "plt.figure(figsize=(10, 5))\n",
    "plt.hist(df_selected[df_selected[\"backchannel_recieved_grouped\"]==1]['affect_change'], alpha=0.5, label=\"Above Average Backchannel Count\", bins=20)\n",
    "plt.hist(df_selected[df_selected[\"backchannel_recieved_grouped\"]==0]['affect_change'], alpha=0.5, label=\"Below Average Backchannel Count\", bins=20)\n",
    "plt.legend(loc='upper left')\n",
    "plt.title(\"Affect Change Distribution, by Backchannel count\")\n",
    "plt.xlabel(\"Affect Change\")\n",
    "plt.ylabel(\"Response Count\")"
   ]
  },
  {
   "cell_type": "code",
   "execution_count": null,
   "metadata": {},
   "outputs": [
    {
     "name": "stdout",
     "output_type": "stream",
     "text": [
      "2.289544122811952 2.235610545315115\n"
     ]
    }
   ],
   "source": [
    "data1 = df_selected[df_selected[\"backchannel_recieved_grouped\"]==1]['affect_change']\n",
    "data2 = df_selected[df_selected[\"backchannel_recieved_grouped\"]==0]['affect_change']\n",
    "print(np.var(data1), np.var(data2)) # similar variance"
   ]
  },
  {
   "cell_type": "code",
   "execution_count": null,
   "metadata": {},
   "outputs": [
    {
     "data": {
      "text/plain": [
       "Ttest_indResult(statistic=1.3734335969604776, pvalue=0.16971217984031578)"
      ]
     },
     "execution_count": 103,
     "metadata": {},
     "output_type": "execute_result"
    }
   ],
   "source": [
    "import scipy.stats as stats\n",
    "stats.ttest_ind(data1, data2, equal_var=True) \n",
    "# Cannot reject null hypothesis that means are equal"
   ]
  },
  {
   "cell_type": "code",
   "execution_count": null,
   "metadata": {},
   "outputs": [
    {
     "name": "stdout",
     "output_type": "stream",
     "text": [
      "0.21647172585336336 0.23063902215488782\n",
      "0.6831072749691739 0.6391437308868502\n"
     ]
    },
    {
     "data": {
      "text/plain": [
       "Ttest_indResult(statistic=2.6522515880792255, pvalue=0.00803449522914264)"
      ]
     },
     "execution_count": 104,
     "metadata": {},
     "output_type": "execute_result"
    }
   ],
   "source": [
    "data1 = df_selected[df_selected[\"backchannel_recieved_grouped\"]==1]['affect_change_is_positive']\n",
    "data2 = df_selected[df_selected[\"backchannel_recieved_grouped\"]==0]['affect_change_is_positive']\n",
    "print(np.var(data1), np.var(data2)) # similar variance\n",
    "print(np.mean(data1), np.mean(data2)) # mean proportion of affect change is positive\n",
    "stats.ttest_ind(data1, data2, equal_var=True) "
   ]
  },
  {
   "cell_type": "code",
   "execution_count": null,
   "metadata": {},
   "outputs": [
    {
     "name": "stdout",
     "output_type": "stream",
     "text": [
      "378.20662902659336 426.07260294213916\n",
      "74.95129469790382 72.82813455657492\n"
     ]
    },
    {
     "data": {
      "text/plain": [
       "Ttest_indResult(statistic=3.0198459445143797, pvalue=0.0025486712906444193)"
      ]
     },
     "execution_count": 105,
     "metadata": {},
     "output_type": "execute_result"
    }
   ],
   "source": [
    "data1 = df_selected[df_selected[\"backchannel_recieved_grouped\"]==1]['conversationalist']\n",
    "data2 = df_selected[df_selected[\"backchannel_recieved_grouped\"]==0]['conversationalist']\n",
    "print(np.var(data1), np.var(data2)) # similar variance\n",
    "print(np.mean(data1), np.mean(data2)) # mean proportion of affect change is positive\n",
    "stats.ttest_ind(data1, data2, equal_var=True) "
   ]
  },
  {
   "cell_type": "code",
   "execution_count": null,
   "metadata": {},
   "outputs": [
    {
     "data": {
      "text/plain": [
       "Text(0, 0.5, 'Response Count')"
      ]
     },
     "execution_count": 106,
     "metadata": {},
     "output_type": "execute_result"
    },
    {
     "data": {
      "image/png": "[encoded data removed]",
      "text/plain": [
       "<Figure size 1000x500 with 1 Axes>"
      ]
     },
     "metadata": {},
     "output_type": "display_data"
    }
   ],
   "source": [
    "plt.figure(figsize=(10, 5))\n",
    "plt.hist(df_selected[df_selected[\"backchannel_recieved_grouped\"]==1]['affect_change_is_positive'], alpha=0.5, label=\"Above Average Backchannel Count\", bins=20)\n",
    "plt.hist(df_selected[df_selected[\"backchannel_recieved_grouped\"]==0]['affect_change_is_positive'], alpha=0.5, label=\"Below Average Backchannel Count\", bins=20)\n",
    "plt.legend(loc='upper left')\n",
    "plt.title(\"Affect Change is Positive Distribution, by Backchannel Recieved\")\n",
    "plt.xlabel(\"Affect Change (Is or is not positive)\")\n",
    "plt.ylabel(\"Response Count\")"
   ]
  },
  {
   "cell_type": "code",
   "execution_count": null,
   "metadata": {},
   "outputs": [],
   "source": []
  },
  {
   "cell_type": "code",
   "execution_count": null,
   "metadata": {},
   "outputs": [
    {
     "data": {
      "text/plain": [
       "backchannel_recieved_grouped\n",
       "0    0.628761\n",
       "1    0.671515\n",
       "Name: affect_change_is_positive, dtype: float64"
      ]
     },
     "execution_count": 107,
     "metadata": {},
     "output_type": "execute_result"
    }
   ],
   "source": [
    "df.groupby(\"backchannel_recieved_grouped\")[\"affect_change_is_positive\"].mean()"
   ]
  },
  {
   "cell_type": "code",
   "execution_count": null,
   "metadata": {},
   "outputs": [],
   "source": [
    "# Null = no difference in mean prob of positive affect change between two groups\n",
    "# Alternative = difference in mean prob of positive affect change between two groups\n"
   ]
  },
  {
   "cell_type": "code",
   "execution_count": null,
   "metadata": {},
   "outputs": [
    {
     "data": {
      "text/plain": [
       "Text(0, 0.5, 'Response Count')"
      ]
     },
     "execution_count": 109,
     "metadata": {},
     "output_type": "execute_result"
    },
    {
     "data": {
      "image/png": "[encoded data removed]",
      "text/plain": [
       "<Figure size 640x480 with 1 Axes>"
      ]
     },
     "metadata": {},
     "output_type": "display_data"
    }
   ],
   "source": [
    "plt.hist(df_selected[df_selected[\"backchannel_recieved_grouped\"]==1]['arousal_change'], alpha=0.5, label=\"Above Average Backchannel Count\", bins=20)\n",
    "plt.hist(df_selected[df_selected[\"backchannel_recieved_grouped\"]==0]['arousal_change'], alpha=0.5, label=\"Below Average Backchannel Count\", bins=20)\n",
    "plt.legend()\n",
    "plt.title(\"Arousal Change Distribution, by Backchannel count\")\n",
    "plt.xlabel(\"Arousal Change\")\n",
    "plt.ylabel(\"Response Count\")"
   ]
  },
  {
   "cell_type": "code",
   "execution_count": null,
   "metadata": {},
   "outputs": [
    {
     "data": {
      "text/plain": [
       "Text(0, 0.5, 'Response Count')"
      ]
     },
     "execution_count": 110,
     "metadata": {},
     "output_type": "execute_result"
    },
    {
     "data": {
      "image/png": "[encoded data removed]",
      "text/plain": [
       "<Figure size 640x480 with 1 Axes>"
      ]
     },
     "metadata": {},
     "output_type": "display_data"
    }
   ],
   "source": [
    "plt.hist(df_selected[df_selected[\"backchannel_recieved_grouped\"]==1]['affect'], alpha=0.5, label=\"Above Average Backchannel Count\", bins=20)\n",
    "plt.hist(df_selected[df_selected[\"backchannel_recieved_grouped\"]==0]['affect'], alpha=0.5, label=\"Below Average Backchannel Count\", bins=20)\n",
    "plt.legend()\n",
    "plt.title(\"Arousal Change Distribution, by Backchannel count\")\n",
    "plt.xlabel(\"Arousal Change\")\n",
    "plt.ylabel(\"Response Count\")"
   ]
  },
  {
   "cell_type": "code",
   "execution_count": null,
   "metadata": {},
   "outputs": [
    {
     "data": {
      "text/plain": [
       "Text(0, 0.5, 'Response Count')"
      ]
     },
     "execution_count": 111,
     "metadata": {},
     "output_type": "execute_result"
    },
    {
     "data": {
      "image/png": "[encoded data removed]",
      "text/plain": [
       "<Figure size 640x480 with 1 Axes>"
      ]
     },
     "metadata": {},
     "output_type": "display_data"
    }
   ],
   "source": [
    "plt.hist(df_selected[df_selected[\"backchannel_recieved_grouped\"]==1]['arousal_change'], alpha=0.5, label=\"Above Average Backchannel Count\", bins=20)\n",
    "plt.hist(df_selected[df_selected[\"backchannel_recieved_grouped\"]==0]['arousal_change'], alpha=0.5, label=\"Below Average Backchannel Count\", bins=20)\n",
    "plt.legend()\n",
    "plt.title(\"Arousal Change Distribution, by Backchannel count\")\n",
    "plt.xlabel(\"Arousal Change\")\n",
    "plt.ylabel(\"Response Count\")"
   ]
  },
  {
   "cell_type": "code",
   "execution_count": null,
   "metadata": {},
   "outputs": [],
   "source": []
  },
  {
   "attachments": {},
   "cell_type": "markdown",
   "metadata": {},
   "source": [
    "## Binarize Backchannel Count / Recieved / Given"
   ]
  },
  {
   "cell_type": "code",
   "execution_count": null,
   "metadata": {},
   "outputs": [
    {
     "data": {
      "text/html": [
       "<div>\n",
       "<style scoped>\n",
       "    .dataframe tbody tr th:only-of-type {\n",
       "        vertical-align: middle;\n",
       "    }\n",
       "\n",
       "    .dataframe tbody tr th {\n",
       "        vertical-align: top;\n",
       "    }\n",
       "\n",
       "    .dataframe thead th {\n",
       "        text-align: right;\n",
       "    }\n",
       "</style>\n",
       "<table border=\"1\" class=\"dataframe\">\n",
       "  <thead>\n",
       "    <tr style=\"text-align: right;\">\n",
       "      <th></th>\n",
       "      <th>user_id</th>\n",
       "      <th>partner_id</th>\n",
       "      <th>conversation</th>\n",
       "      <th>date</th>\n",
       "      <th>survey_duration_in_seconds</th>\n",
       "      <th>time_zone</th>\n",
       "      <th>pre_affect</th>\n",
       "      <th>pre_arousal</th>\n",
       "      <th>technical_quality</th>\n",
       "      <th>conv_length</th>\n",
       "      <th>...</th>\n",
       "      <th>backchannel_given</th>\n",
       "      <th>backchannel_recieved</th>\n",
       "      <th>backchannel_count</th>\n",
       "      <th>affect_change</th>\n",
       "      <th>affect_change_is_positive</th>\n",
       "      <th>affect_change_sign</th>\n",
       "      <th>arousal_change</th>\n",
       "      <th>arousal_change_is_positive</th>\n",
       "      <th>arousal_change_sign</th>\n",
       "      <th>backchannel_recieved_grouped</th>\n",
       "    </tr>\n",
       "  </thead>\n",
       "  <tbody>\n",
       "    <tr>\n",
       "      <th>0</th>\n",
       "      <td>5a73899f9cdd1800017786f0</td>\n",
       "      <td>5fa072f4f4aa580b63834357</td>\n",
       "      <td>0020a0c5-1658-4747-99c1-2839e736b481</td>\n",
       "      <td>2020-11-10</td>\n",
       "      <td>4115</td>\n",
       "      <td>6.0</td>\n",
       "      <td>5.0</td>\n",
       "      <td>4.0</td>\n",
       "      <td>1.0</td>\n",
       "      <td>45.0</td>\n",
       "      <td>...</td>\n",
       "      <td>269</td>\n",
       "      <td>83</td>\n",
       "      <td>352</td>\n",
       "      <td>3.0</td>\n",
       "      <td>1</td>\n",
       "      <td>1</td>\n",
       "      <td>3.0</td>\n",
       "      <td>1</td>\n",
       "      <td>1</td>\n",
       "      <td>0</td>\n",
       "    </tr>\n",
       "    <tr>\n",
       "      <th>1</th>\n",
       "      <td>5fa072f4f4aa580b63834357</td>\n",
       "      <td>5a73899f9cdd1800017786f0</td>\n",
       "      <td>0020a0c5-1658-4747-99c1-2839e736b481</td>\n",
       "      <td>2020-11-10</td>\n",
       "      <td>3949</td>\n",
       "      <td>6.0</td>\n",
       "      <td>7.0</td>\n",
       "      <td>6.0</td>\n",
       "      <td>1.0</td>\n",
       "      <td>43.0</td>\n",
       "      <td>...</td>\n",
       "      <td>269</td>\n",
       "      <td>83</td>\n",
       "      <td>352</td>\n",
       "      <td>2.0</td>\n",
       "      <td>1</td>\n",
       "      <td>1</td>\n",
       "      <td>2.0</td>\n",
       "      <td>1</td>\n",
       "      <td>1</td>\n",
       "      <td>0</td>\n",
       "    </tr>\n",
       "    <tr>\n",
       "      <th>2</th>\n",
       "      <td>5f482b0da1cde52de45f174c</td>\n",
       "      <td>5f57120cba207c18f058a62b</td>\n",
       "      <td>002d68da-7738-4177-89d9-d72ae803e0e4</td>\n",
       "      <td>2020-11-15</td>\n",
       "      <td>3293</td>\n",
       "      <td>8.0</td>\n",
       "      <td>7.0</td>\n",
       "      <td>6.0</td>\n",
       "      <td>1.0</td>\n",
       "      <td>34.0</td>\n",
       "      <td>...</td>\n",
       "      <td>76</td>\n",
       "      <td>96</td>\n",
       "      <td>172</td>\n",
       "      <td>2.0</td>\n",
       "      <td>1</td>\n",
       "      <td>1</td>\n",
       "      <td>2.0</td>\n",
       "      <td>1</td>\n",
       "      <td>1</td>\n",
       "      <td>0</td>\n",
       "    </tr>\n",
       "    <tr>\n",
       "      <th>3</th>\n",
       "      <td>5f57120cba207c18f058a62b</td>\n",
       "      <td>5f482b0da1cde52de45f174c</td>\n",
       "      <td>002d68da-7738-4177-89d9-d72ae803e0e4</td>\n",
       "      <td>2020-11-15</td>\n",
       "      <td>4393</td>\n",
       "      <td>5.0</td>\n",
       "      <td>7.0</td>\n",
       "      <td>5.0</td>\n",
       "      <td>1.0</td>\n",
       "      <td>34.0</td>\n",
       "      <td>...</td>\n",
       "      <td>76</td>\n",
       "      <td>96</td>\n",
       "      <td>172</td>\n",
       "      <td>2.0</td>\n",
       "      <td>1</td>\n",
       "      <td>1</td>\n",
       "      <td>2.0</td>\n",
       "      <td>1</td>\n",
       "      <td>1</td>\n",
       "      <td>0</td>\n",
       "    </tr>\n",
       "    <tr>\n",
       "      <th>4</th>\n",
       "      <td>5d510396f6725b001a4fc025</td>\n",
       "      <td>5dd5bc3bd5cef8000b9861d5</td>\n",
       "      <td>00411458-8275-4b92-a000-d52187f03604</td>\n",
       "      <td>2020-01-09</td>\n",
       "      <td>3215</td>\n",
       "      <td>6.0</td>\n",
       "      <td>6.0</td>\n",
       "      <td>4.0</td>\n",
       "      <td>2.0</td>\n",
       "      <td>35.0</td>\n",
       "      <td>...</td>\n",
       "      <td>188</td>\n",
       "      <td>61</td>\n",
       "      <td>249</td>\n",
       "      <td>4.0</td>\n",
       "      <td>1</td>\n",
       "      <td>1</td>\n",
       "      <td>4.0</td>\n",
       "      <td>1</td>\n",
       "      <td>1</td>\n",
       "      <td>0</td>\n",
       "    </tr>\n",
       "    <tr>\n",
       "      <th>...</th>\n",
       "      <td>...</td>\n",
       "      <td>...</td>\n",
       "      <td>...</td>\n",
       "      <td>...</td>\n",
       "      <td>...</td>\n",
       "      <td>...</td>\n",
       "      <td>...</td>\n",
       "      <td>...</td>\n",
       "      <td>...</td>\n",
       "      <td>...</td>\n",
       "      <td>...</td>\n",
       "      <td>...</td>\n",
       "      <td>...</td>\n",
       "      <td>...</td>\n",
       "      <td>...</td>\n",
       "      <td>...</td>\n",
       "      <td>...</td>\n",
       "      <td>...</td>\n",
       "      <td>...</td>\n",
       "      <td>...</td>\n",
       "      <td>...</td>\n",
       "    </tr>\n",
       "    <tr>\n",
       "      <th>3307</th>\n",
       "      <td>5f39d80f9bbaf517512eb86d</td>\n",
       "      <td>5ef19d99454675561e3fc9bb</td>\n",
       "      <td>ffe29987-3502-4f72-9987-cc5208ae3880</td>\n",
       "      <td>2020-11-11</td>\n",
       "      <td>4785</td>\n",
       "      <td>6.0</td>\n",
       "      <td>4.0</td>\n",
       "      <td>3.0</td>\n",
       "      <td>1.0</td>\n",
       "      <td>30.0</td>\n",
       "      <td>...</td>\n",
       "      <td>50</td>\n",
       "      <td>249</td>\n",
       "      <td>299</td>\n",
       "      <td>1.0</td>\n",
       "      <td>1</td>\n",
       "      <td>1</td>\n",
       "      <td>0.0</td>\n",
       "      <td>0</td>\n",
       "      <td>0</td>\n",
       "      <td>1</td>\n",
       "    </tr>\n",
       "    <tr>\n",
       "      <th>3308</th>\n",
       "      <td>5dd406d9c23e0d3e6dacc034</td>\n",
       "      <td>5e820a4e26ed71918013d860</td>\n",
       "      <td>ffe5cccf-82b3-4938-a2e9-38335d188e44</td>\n",
       "      <td>2020-08-11</td>\n",
       "      <td>3614</td>\n",
       "      <td>5.0</td>\n",
       "      <td>7.0</td>\n",
       "      <td>7.0</td>\n",
       "      <td>1.0</td>\n",
       "      <td>39.0</td>\n",
       "      <td>...</td>\n",
       "      <td>186</td>\n",
       "      <td>259</td>\n",
       "      <td>445</td>\n",
       "      <td>2.0</td>\n",
       "      <td>1</td>\n",
       "      <td>1</td>\n",
       "      <td>2.0</td>\n",
       "      <td>1</td>\n",
       "      <td>1</td>\n",
       "      <td>1</td>\n",
       "    </tr>\n",
       "    <tr>\n",
       "      <th>3309</th>\n",
       "      <td>5e820a4e26ed71918013d860</td>\n",
       "      <td>5dd406d9c23e0d3e6dacc034</td>\n",
       "      <td>ffe5cccf-82b3-4938-a2e9-38335d188e44</td>\n",
       "      <td>2020-08-11</td>\n",
       "      <td>4182</td>\n",
       "      <td>5.0</td>\n",
       "      <td>8.0</td>\n",
       "      <td>8.0</td>\n",
       "      <td>1.0</td>\n",
       "      <td>30.0</td>\n",
       "      <td>...</td>\n",
       "      <td>186</td>\n",
       "      <td>259</td>\n",
       "      <td>445</td>\n",
       "      <td>2.0</td>\n",
       "      <td>1</td>\n",
       "      <td>1</td>\n",
       "      <td>2.0</td>\n",
       "      <td>1</td>\n",
       "      <td>1</td>\n",
       "      <td>1</td>\n",
       "    </tr>\n",
       "    <tr>\n",
       "      <th>3310</th>\n",
       "      <td>5977e3867412f8000194e1fe</td>\n",
       "      <td>5d5162f1b50a1000169da137</td>\n",
       "      <td>fffda3e6-7d99-4db8-aa12-16e99fa454c2</td>\n",
       "      <td>2020-08-11</td>\n",
       "      <td>2785</td>\n",
       "      <td>6.0</td>\n",
       "      <td>6.0</td>\n",
       "      <td>6.0</td>\n",
       "      <td>1.0</td>\n",
       "      <td>26.0</td>\n",
       "      <td>...</td>\n",
       "      <td>25</td>\n",
       "      <td>216</td>\n",
       "      <td>241</td>\n",
       "      <td>-1.0</td>\n",
       "      <td>0</td>\n",
       "      <td>-1</td>\n",
       "      <td>-2.0</td>\n",
       "      <td>0</td>\n",
       "      <td>-1</td>\n",
       "      <td>1</td>\n",
       "    </tr>\n",
       "    <tr>\n",
       "      <th>3311</th>\n",
       "      <td>5d5162f1b50a1000169da137</td>\n",
       "      <td>5977e3867412f8000194e1fe</td>\n",
       "      <td>fffda3e6-7d99-4db8-aa12-16e99fa454c2</td>\n",
       "      <td>2020-08-11</td>\n",
       "      <td>3434</td>\n",
       "      <td>6.0</td>\n",
       "      <td>7.0</td>\n",
       "      <td>7.0</td>\n",
       "      <td>1.0</td>\n",
       "      <td>26.0</td>\n",
       "      <td>...</td>\n",
       "      <td>25</td>\n",
       "      <td>216</td>\n",
       "      <td>241</td>\n",
       "      <td>0.0</td>\n",
       "      <td>0</td>\n",
       "      <td>0</td>\n",
       "      <td>0.0</td>\n",
       "      <td>0</td>\n",
       "      <td>0</td>\n",
       "      <td>1</td>\n",
       "    </tr>\n",
       "  </tbody>\n",
       "</table>\n",
       "<p>3257 rows × 233 columns</p>\n",
       "</div>"
      ],
      "text/plain": [
       "                       user_id                partner_id  \\\n",
       "0     5a73899f9cdd1800017786f0  5fa072f4f4aa580b63834357   \n",
       "1     5fa072f4f4aa580b63834357  5a73899f9cdd1800017786f0   \n",
       "2     5f482b0da1cde52de45f174c  5f57120cba207c18f058a62b   \n",
       "3     5f57120cba207c18f058a62b  5f482b0da1cde52de45f174c   \n",
       "4     5d510396f6725b001a4fc025  5dd5bc3bd5cef8000b9861d5   \n",
       "...                        ...                       ...   \n",
       "3307  5f39d80f9bbaf517512eb86d  5ef19d99454675561e3fc9bb   \n",
       "3308  5dd406d9c23e0d3e6dacc034  5e820a4e26ed71918013d860   \n",
       "3309  5e820a4e26ed71918013d860  5dd406d9c23e0d3e6dacc034   \n",
       "3310  5977e3867412f8000194e1fe  5d5162f1b50a1000169da137   \n",
       "3311  5d5162f1b50a1000169da137  5977e3867412f8000194e1fe   \n",
       "\n",
       "                              conversation        date  \\\n",
       "0     0020a0c5-1658-4747-99c1-2839e736b481  2020-11-10   \n",
       "1     0020a0c5-1658-4747-99c1-2839e736b481  2020-11-10   \n",
       "2     002d68da-7738-4177-89d9-d72ae803e0e4  2020-11-15   \n",
       "3     002d68da-7738-4177-89d9-d72ae803e0e4  2020-11-15   \n",
       "4     00411458-8275-4b92-a000-d52187f03604  2020-01-09   \n",
       "...                                    ...         ...   \n",
       "3307  ffe29987-3502-4f72-9987-cc5208ae3880  2020-11-11   \n",
       "3308  ffe5cccf-82b3-4938-a2e9-38335d188e44  2020-08-11   \n",
       "3309  ffe5cccf-82b3-4938-a2e9-38335d188e44  2020-08-11   \n",
       "3310  fffda3e6-7d99-4db8-aa12-16e99fa454c2  2020-08-11   \n",
       "3311  fffda3e6-7d99-4db8-aa12-16e99fa454c2  2020-08-11   \n",
       "\n",
       "      survey_duration_in_seconds  time_zone  pre_affect  pre_arousal  \\\n",
       "0                           4115        6.0         5.0          4.0   \n",
       "1                           3949        6.0         7.0          6.0   \n",
       "2                           3293        8.0         7.0          6.0   \n",
       "3                           4393        5.0         7.0          5.0   \n",
       "4                           3215        6.0         6.0          4.0   \n",
       "...                          ...        ...         ...          ...   \n",
       "3307                        4785        6.0         4.0          3.0   \n",
       "3308                        3614        5.0         7.0          7.0   \n",
       "3309                        4182        5.0         8.0          8.0   \n",
       "3310                        2785        6.0         6.0          6.0   \n",
       "3311                        3434        6.0         7.0          7.0   \n",
       "\n",
       "      technical_quality  conv_length  ...  backchannel_given  \\\n",
       "0                   1.0         45.0  ...                269   \n",
       "1                   1.0         43.0  ...                269   \n",
       "2                   1.0         34.0  ...                 76   \n",
       "3                   1.0         34.0  ...                 76   \n",
       "4                   2.0         35.0  ...                188   \n",
       "...                 ...          ...  ...                ...   \n",
       "3307                1.0         30.0  ...                 50   \n",
       "3308                1.0         39.0  ...                186   \n",
       "3309                1.0         30.0  ...                186   \n",
       "3310                1.0         26.0  ...                 25   \n",
       "3311                1.0         26.0  ...                 25   \n",
       "\n",
       "      backchannel_recieved  backchannel_count  affect_change  \\\n",
       "0                       83                352            3.0   \n",
       "1                       83                352            2.0   \n",
       "2                       96                172            2.0   \n",
       "3                       96                172            2.0   \n",
       "4                       61                249            4.0   \n",
       "...                    ...                ...            ...   \n",
       "3307                   249                299            1.0   \n",
       "3308                   259                445            2.0   \n",
       "3309                   259                445            2.0   \n",
       "3310                   216                241           -1.0   \n",
       "3311                   216                241            0.0   \n",
       "\n",
       "      affect_change_is_positive  affect_change_sign  arousal_change  \\\n",
       "0                             1                   1             3.0   \n",
       "1                             1                   1             2.0   \n",
       "2                             1                   1             2.0   \n",
       "3                             1                   1             2.0   \n",
       "4                             1                   1             4.0   \n",
       "...                         ...                 ...             ...   \n",
       "3307                          1                   1             0.0   \n",
       "3308                          1                   1             2.0   \n",
       "3309                          1                   1             2.0   \n",
       "3310                          0                  -1            -2.0   \n",
       "3311                          0                   0             0.0   \n",
       "\n",
       "      arousal_change_is_positive arousal_change_sign  \\\n",
       "0                              1                   1   \n",
       "1                              1                   1   \n",
       "2                              1                   1   \n",
       "3                              1                   1   \n",
       "4                              1                   1   \n",
       "...                          ...                 ...   \n",
       "3307                           0                   0   \n",
       "3308                           1                   1   \n",
       "3309                           1                   1   \n",
       "3310                           0                  -1   \n",
       "3311                           0                   0   \n",
       "\n",
       "      backchannel_recieved_grouped  \n",
       "0                                0  \n",
       "1                                0  \n",
       "2                                0  \n",
       "3                                0  \n",
       "4                                0  \n",
       "...                            ...  \n",
       "3307                             1  \n",
       "3308                             1  \n",
       "3309                             1  \n",
       "3310                             1  \n",
       "3311                             1  \n",
       "\n",
       "[3257 rows x 233 columns]"
      ]
     },
     "execution_count": 112,
     "metadata": {},
     "output_type": "execute_result"
    }
   ],
   "source": [
    "df_selected"
   ]
  },
  {
   "attachments": {},
   "cell_type": "markdown",
   "metadata": {},
   "source": [
    "## Find Other Variables"
   ]
  },
  {
   "cell_type": "code",
   "execution_count": null,
   "metadata": {},
   "outputs": [
    {
     "data": {
      "text/plain": [
       "(array([ 29.,  42.,  54.,  97., 132., 225., 376., 683., 781., 838.]),\n",
       " array([  0.,  10.,  20.,  30.,  40.,  50.,  60.,  70.,  80.,  90., 100.]),\n",
       " <BarContainer object of 10 artists>)"
      ]
     },
     "execution_count": 113,
     "metadata": {},
     "output_type": "execute_result"
    },
    {
     "data": {
      "image/png": "[encoded data removed]",
      "text/plain": [
       "<Figure size 640x480 with 1 Axes>"
      ]
     },
     "metadata": {},
     "output_type": "display_data"
    }
   ],
   "source": [
    "plt.hist(df_selected[\"conversationalist\"])"
   ]
  },
  {
   "cell_type": "code",
   "execution_count": null,
   "metadata": {},
   "outputs": [
    {
     "data": {
      "text/plain": [
       "<statsmodels.regression.linear_model.RegressionResultsWrapper at 0x2833471c0>"
      ]
     },
     "execution_count": 114,
     "metadata": {},
     "output_type": "execute_result"
    }
   ],
   "source": [
    "get_lin_reg(df_selected, \"backchannel_recieved\", \"conversationalist\", \"\")"
   ]
  },
  {
   "cell_type": "code",
   "execution_count": null,
   "metadata": {},
   "outputs": [
    {
     "data": {
      "text/plain": [
       "conversationalist_above_average\n",
       "0     441\n",
       "1    2816\n",
       "Name: conversation, dtype: int64"
      ]
     },
     "execution_count": 115,
     "metadata": {},
     "output_type": "execute_result"
    }
   ],
   "source": [
    "df_selected[\"conversationalist_above_average\"] = np.where(df_selected[\"conversationalist\"]>50, 1, 0)\n",
    "df_selected.groupby(\"conversationalist_above_average\").count()[\"conversation\"]\n"
   ]
  },
  {
   "cell_type": "code",
   "execution_count": null,
   "metadata": {},
   "outputs": [
    {
     "data": {
      "text/plain": [
       "(array([1579.,    0.,    0.,    0.,    0.,    0.,    0.,    0.,    0.,\n",
       "        1678.]),\n",
       " array([0. , 0.1, 0.2, 0.3, 0.4, 0.5, 0.6, 0.7, 0.8, 0.9, 1. ]),\n",
       " <BarContainer object of 10 artists>)"
      ]
     },
     "execution_count": 116,
     "metadata": {},
     "output_type": "execute_result"
    },
    {
     "data": {
      "image/png": "[encoded data removed]",
      "text/plain": [
       "<Figure size 640x480 with 1 Axes>"
      ]
     },
     "metadata": {},
     "output_type": "display_data"
    }
   ],
   "source": [
    "plt.hist(np.where(df_selected[\"conversationalist\"]>77, 1, 0)\n",
    ")"
   ]
  },
  {
   "cell_type": "code",
   "execution_count": null,
   "metadata": {},
   "outputs": [
    {
     "data": {
      "text/plain": [
       "conversationalist_above_quantile\n",
       "0    1476\n",
       "1    1781\n",
       "Name: conversation, dtype: int64"
      ]
     },
     "execution_count": 117,
     "metadata": {},
     "output_type": "execute_result"
    }
   ],
   "source": [
    "df_selected[\"conversationalist_above_quantile\"] = np.where(df_selected[\"conversationalist\"]>75, 1, 0)\n",
    "df_selected.groupby(\"conversationalist_above_quantile\").count()[\"conversation\"]"
   ]
  },
  {
   "cell_type": "code",
   "execution_count": null,
   "metadata": {},
   "outputs": [
    {
     "data": {
      "text/html": [
       "<table class=\"simpletable\">\n",
       "<caption>OLS Regression Results</caption>\n",
       "<tr>\n",
       "  <th>Dep. Variable:</th>    <td>conversationalist</td> <th>  R-squared:         </th> <td>   0.007</td> \n",
       "</tr>\n",
       "<tr>\n",
       "  <th>Model:</th>                   <td>OLS</td>        <th>  Adj. R-squared:    </th> <td>   0.006</td> \n",
       "</tr>\n",
       "<tr>\n",
       "  <th>Method:</th>             <td>Least Squares</td>   <th>  F-statistic:       </th> <td>   21.39</td> \n",
       "</tr>\n",
       "<tr>\n",
       "  <th>Date:</th>             <td>Thu, 15 Jun 2023</td>  <th>  Prob (F-statistic):</th> <td>3.89e-06</td> \n",
       "</tr>\n",
       "<tr>\n",
       "  <th>Time:</th>                 <td>19:51:46</td>      <th>  Log-Likelihood:    </th> <td> -14382.</td> \n",
       "</tr>\n",
       "<tr>\n",
       "  <th>No. Observations:</th>      <td>  3257</td>       <th>  AIC:               </th> <td>2.877e+04</td>\n",
       "</tr>\n",
       "<tr>\n",
       "  <th>Df Residuals:</th>          <td>  3255</td>       <th>  BIC:               </th> <td>2.878e+04</td>\n",
       "</tr>\n",
       "<tr>\n",
       "  <th>Df Model:</th>              <td>     1</td>       <th>                     </th>     <td> </td>    \n",
       "</tr>\n",
       "<tr>\n",
       "  <th>Covariance Type:</th>      <td>nonrobust</td>     <th>                     </th>     <td> </td>    \n",
       "</tr>\n",
       "</table>\n",
       "<table class=\"simpletable\">\n",
       "<tr>\n",
       "            <td></td>              <th>coef</th>     <th>std err</th>      <th>t</th>      <th>P>|t|</th>  <th>[0.025</th>    <th>0.975]</th>  \n",
       "</tr>\n",
       "<tr>\n",
       "  <th>Intercept</th>            <td>   71.0357</td> <td>    0.709</td> <td>  100.181</td> <td> 0.000</td> <td>   69.645</td> <td>   72.426</td>\n",
       "</tr>\n",
       "<tr>\n",
       "  <th>backchannel_recieved</th> <td>    0.0200</td> <td>    0.004</td> <td>    4.625</td> <td> 0.000</td> <td>    0.012</td> <td>    0.028</td>\n",
       "</tr>\n",
       "</table>\n",
       "<table class=\"simpletable\">\n",
       "<tr>\n",
       "  <th>Omnibus:</th>       <td>578.300</td> <th>  Durbin-Watson:     </th> <td>   1.862</td> \n",
       "</tr>\n",
       "<tr>\n",
       "  <th>Prob(Omnibus):</th> <td> 0.000</td>  <th>  Jarque-Bera (JB):  </th> <td> 965.582</td> \n",
       "</tr>\n",
       "<tr>\n",
       "  <th>Skew:</th>          <td>-1.173</td>  <th>  Prob(JB):          </th> <td>2.12e-210</td>\n",
       "</tr>\n",
       "<tr>\n",
       "  <th>Kurtosis:</th>      <td> 4.270</td>  <th>  Cond. No.          </th> <td>    331.</td> \n",
       "</tr>\n",
       "</table><br/><br/>Notes:<br/>[1] Standard Errors assume that the covariance matrix of the errors is correctly specified."
      ],
      "text/latex": [
       "\\begin{center}\n",
       "\\begin{tabular}{lclc}\n",
       "\\toprule\n",
       "\\textbf{Dep. Variable:}        & conversationalist & \\textbf{  R-squared:         } &     0.007   \\\\\n",
       "\\textbf{Model:}                &        OLS        & \\textbf{  Adj. R-squared:    } &     0.006   \\\\\n",
       "\\textbf{Method:}               &   Least Squares   & \\textbf{  F-statistic:       } &     21.39   \\\\\n",
       "\\textbf{Date:}                 &  Thu, 15 Jun 2023 & \\textbf{  Prob (F-statistic):} &  3.89e-06   \\\\\n",
       "\\textbf{Time:}                 &      19:51:46     & \\textbf{  Log-Likelihood:    } &   -14382.   \\\\\n",
       "\\textbf{No. Observations:}     &         3257      & \\textbf{  AIC:               } & 2.877e+04   \\\\\n",
       "\\textbf{Df Residuals:}         &         3255      & \\textbf{  BIC:               } & 2.878e+04   \\\\\n",
       "\\textbf{Df Model:}             &            1      & \\textbf{                     } &             \\\\\n",
       "\\textbf{Covariance Type:}      &     nonrobust     & \\textbf{                     } &             \\\\\n",
       "\\bottomrule\n",
       "\\end{tabular}\n",
       "\\begin{tabular}{lcccccc}\n",
       "                               & \\textbf{coef} & \\textbf{std err} & \\textbf{t} & \\textbf{P$> |$t$|$} & \\textbf{[0.025} & \\textbf{0.975]}  \\\\\n",
       "\\midrule\n",
       "\\textbf{Intercept}             &      71.0357  &        0.709     &   100.181  &         0.000        &       69.645    &       72.426     \\\\\n",
       "\\textbf{backchannel\\_recieved} &       0.0200  &        0.004     &     4.625  &         0.000        &        0.012    &        0.028     \\\\\n",
       "\\bottomrule\n",
       "\\end{tabular}\n",
       "\\begin{tabular}{lclc}\n",
       "\\textbf{Omnibus:}       & 578.300 & \\textbf{  Durbin-Watson:     } &     1.862  \\\\\n",
       "\\textbf{Prob(Omnibus):} &   0.000 & \\textbf{  Jarque-Bera (JB):  } &   965.582  \\\\\n",
       "\\textbf{Skew:}          &  -1.173 & \\textbf{  Prob(JB):          } & 2.12e-210  \\\\\n",
       "\\textbf{Kurtosis:}      &   4.270 & \\textbf{  Cond. No.          } &      331.  \\\\\n",
       "\\bottomrule\n",
       "\\end{tabular}\n",
       "%\\caption{OLS Regression Results}\n",
       "\\end{center}\n",
       "\n",
       "Notes: \\newline\n",
       " [1] Standard Errors assume that the covariance matrix of the errors is correctly specified."
      ],
      "text/plain": [
       "<class 'statsmodels.iolib.summary.Summary'>\n",
       "\"\"\"\n",
       "                            OLS Regression Results                            \n",
       "==============================================================================\n",
       "Dep. Variable:      conversationalist   R-squared:                       0.007\n",
       "Model:                            OLS   Adj. R-squared:                  0.006\n",
       "Method:                 Least Squares   F-statistic:                     21.39\n",
       "Date:                Thu, 15 Jun 2023   Prob (F-statistic):           3.89e-06\n",
       "Time:                        19:51:46   Log-Likelihood:                -14382.\n",
       "No. Observations:                3257   AIC:                         2.877e+04\n",
       "Df Residuals:                    3255   BIC:                         2.878e+04\n",
       "Df Model:                           1                                         \n",
       "Covariance Type:            nonrobust                                         \n",
       "========================================================================================\n",
       "                           coef    std err          t      P>|t|      [0.025      0.975]\n",
       "----------------------------------------------------------------------------------------\n",
       "Intercept               71.0357      0.709    100.181      0.000      69.645      72.426\n",
       "backchannel_recieved     0.0200      0.004      4.625      0.000       0.012       0.028\n",
       "==============================================================================\n",
       "Omnibus:                      578.300   Durbin-Watson:                   1.862\n",
       "Prob(Omnibus):                  0.000   Jarque-Bera (JB):              965.582\n",
       "Skew:                          -1.173   Prob(JB):                    2.12e-210\n",
       "Kurtosis:                       4.270   Cond. No.                         331.\n",
       "==============================================================================\n",
       "\n",
       "Notes:\n",
       "[1] Standard Errors assume that the covariance matrix of the errors is correctly specified.\n",
       "\"\"\""
      ]
     },
     "execution_count": 129,
     "metadata": {},
     "output_type": "execute_result"
    }
   ],
   "source": [
    "reg = get_lin_reg(df_selected, \"backchannel_recieved\", \"conversationalist\", \"Whether the conversationalist is above the 75th percentile\")\n",
    "reg.summary()"
   ]
  },
  {
   "cell_type": "code",
   "execution_count": null,
   "metadata": {},
   "outputs": [
    {
     "data": {
      "text/plain": [
       "65.0"
      ]
     },
     "execution_count": 131,
     "metadata": {},
     "output_type": "execute_result"
    }
   ],
   "source": [
    "df_selected[\"conversationalist\"].quantile(0.25)"
   ]
  },
  {
   "cell_type": "code",
   "execution_count": null,
   "metadata": {},
   "outputs": [
    {
     "data": {
      "text/plain": [
       "90.0"
      ]
     },
     "execution_count": 132,
     "metadata": {},
     "output_type": "execute_result"
    }
   ],
   "source": [
    "df_selected[\"conversationalist\"].quantile(0.75)"
   ]
  },
  {
   "cell_type": "code",
   "execution_count": null,
   "metadata": {},
   "outputs": [],
   "source": [
    "df_selected[\"conversationalist_quantile\"] = np.where(df_selected[\"conversationalist\"]>=df_selected[\"conversationalist\"].quantile(0.75), 1, np.where(df_selected[\"conversationalist\"]<=df_selected[\"conversationalist\"].quantile(0.25), -1, 0))"
   ]
  },
  {
   "cell_type": "code",
   "execution_count": null,
   "metadata": {},
   "outputs": [
    {
     "data": {
      "text/plain": [
       "conversationalist_quantile\n",
       "-1    852\n",
       " 1    838\n",
       "Name: conversation, dtype: int64"
      ]
     },
     "execution_count": 138,
     "metadata": {},
     "output_type": "execute_result"
    }
   ],
   "source": [
    "df_selected_quant = df_selected[df_selected[\"conversationalist_quantile\"] != 0].copy()\n",
    "df_selected_quant.groupby(\"conversationalist_quantile\").count()[\"conversation\"]"
   ]
  },
  {
   "cell_type": "code",
   "execution_count": null,
   "metadata": {},
   "outputs": [
    {
     "data": {
      "text/html": [
       "<table class=\"simpletable\">\n",
       "<caption>OLS Regression Results</caption>\n",
       "<tr>\n",
       "  <th>Dep. Variable:</th>    <td>conversationalist_quantile</td> <th>  R-squared:         </th> <td>   0.012</td>\n",
       "</tr>\n",
       "<tr>\n",
       "  <th>Model:</th>                        <td>OLS</td>            <th>  Adj. R-squared:    </th> <td>   0.011</td>\n",
       "</tr>\n",
       "<tr>\n",
       "  <th>Method:</th>                  <td>Least Squares</td>       <th>  F-statistic:       </th> <td>   20.33</td>\n",
       "</tr>\n",
       "<tr>\n",
       "  <th>Date:</th>                  <td>Thu, 15 Jun 2023</td>      <th>  Prob (F-statistic):</th> <td>6.97e-06</td>\n",
       "</tr>\n",
       "<tr>\n",
       "  <th>Time:</th>                      <td>19:55:38</td>          <th>  Log-Likelihood:    </th> <td> -2387.8</td>\n",
       "</tr>\n",
       "<tr>\n",
       "  <th>No. Observations:</th>           <td>  1690</td>           <th>  AIC:               </th> <td>   4780.</td>\n",
       "</tr>\n",
       "<tr>\n",
       "  <th>Df Residuals:</th>               <td>  1688</td>           <th>  BIC:               </th> <td>   4791.</td>\n",
       "</tr>\n",
       "<tr>\n",
       "  <th>Df Model:</th>                   <td>     1</td>           <th>                     </th>     <td> </td>   \n",
       "</tr>\n",
       "<tr>\n",
       "  <th>Covariance Type:</th>           <td>nonrobust</td>         <th>                     </th>     <td> </td>   \n",
       "</tr>\n",
       "</table>\n",
       "<table class=\"simpletable\">\n",
       "<tr>\n",
       "            <td></td>              <th>coef</th>     <th>std err</th>      <th>t</th>      <th>P>|t|</th>  <th>[0.025</th>    <th>0.975]</th>  \n",
       "</tr>\n",
       "<tr>\n",
       "  <th>Intercept</th>            <td>   -0.1960</td> <td>    0.048</td> <td>   -4.070</td> <td> 0.000</td> <td>   -0.290</td> <td>   -0.102</td>\n",
       "</tr>\n",
       "<tr>\n",
       "  <th>backchannel_recieved</th> <td>    0.0013</td> <td>    0.000</td> <td>    4.509</td> <td> 0.000</td> <td>    0.001</td> <td>    0.002</td>\n",
       "</tr>\n",
       "</table>\n",
       "<table class=\"simpletable\">\n",
       "<tr>\n",
       "  <th>Omnibus:</th>       <td>6277.629</td> <th>  Durbin-Watson:     </th> <td>   1.896</td>\n",
       "</tr>\n",
       "<tr>\n",
       "  <th>Prob(Omnibus):</th>  <td> 0.000</td>  <th>  Jarque-Bera (JB):  </th> <td> 269.241</td>\n",
       "</tr>\n",
       "<tr>\n",
       "  <th>Skew:</th>           <td> 0.023</td>  <th>  Prob(JB):          </th> <td>3.43e-59</td>\n",
       "</tr>\n",
       "<tr>\n",
       "  <th>Kurtosis:</th>       <td> 1.045</td>  <th>  Cond. No.          </th> <td>    329.</td>\n",
       "</tr>\n",
       "</table><br/><br/>Notes:<br/>[1] Standard Errors assume that the covariance matrix of the errors is correctly specified."
      ],
      "text/latex": [
       "\\begin{center}\n",
       "\\begin{tabular}{lclc}\n",
       "\\toprule\n",
       "\\textbf{Dep. Variable:}        & conversationalist\\_quantile & \\textbf{  R-squared:         } &     0.012   \\\\\n",
       "\\textbf{Model:}                &             OLS             & \\textbf{  Adj. R-squared:    } &     0.011   \\\\\n",
       "\\textbf{Method:}               &        Least Squares        & \\textbf{  F-statistic:       } &     20.33   \\\\\n",
       "\\textbf{Date:}                 &       Thu, 15 Jun 2023      & \\textbf{  Prob (F-statistic):} &  6.97e-06   \\\\\n",
       "\\textbf{Time:}                 &           19:55:38          & \\textbf{  Log-Likelihood:    } &   -2387.8   \\\\\n",
       "\\textbf{No. Observations:}     &              1690           & \\textbf{  AIC:               } &     4780.   \\\\\n",
       "\\textbf{Df Residuals:}         &              1688           & \\textbf{  BIC:               } &     4791.   \\\\\n",
       "\\textbf{Df Model:}             &                 1           & \\textbf{                     } &             \\\\\n",
       "\\textbf{Covariance Type:}      &          nonrobust          & \\textbf{                     } &             \\\\\n",
       "\\bottomrule\n",
       "\\end{tabular}\n",
       "\\begin{tabular}{lcccccc}\n",
       "                               & \\textbf{coef} & \\textbf{std err} & \\textbf{t} & \\textbf{P$> |$t$|$} & \\textbf{[0.025} & \\textbf{0.975]}  \\\\\n",
       "\\midrule\n",
       "\\textbf{Intercept}             &      -0.1960  &        0.048     &    -4.070  &         0.000        &       -0.290    &       -0.102     \\\\\n",
       "\\textbf{backchannel\\_recieved} &       0.0013  &        0.000     &     4.509  &         0.000        &        0.001    &        0.002     \\\\\n",
       "\\bottomrule\n",
       "\\end{tabular}\n",
       "\\begin{tabular}{lclc}\n",
       "\\textbf{Omnibus:}       & 6277.629 & \\textbf{  Durbin-Watson:     } &    1.896  \\\\\n",
       "\\textbf{Prob(Omnibus):} &   0.000  & \\textbf{  Jarque-Bera (JB):  } &  269.241  \\\\\n",
       "\\textbf{Skew:}          &   0.023  & \\textbf{  Prob(JB):          } & 3.43e-59  \\\\\n",
       "\\textbf{Kurtosis:}      &   1.045  & \\textbf{  Cond. No.          } &     329.  \\\\\n",
       "\\bottomrule\n",
       "\\end{tabular}\n",
       "%\\caption{OLS Regression Results}\n",
       "\\end{center}\n",
       "\n",
       "Notes: \\newline\n",
       " [1] Standard Errors assume that the covariance matrix of the errors is correctly specified."
      ],
      "text/plain": [
       "<class 'statsmodels.iolib.summary.Summary'>\n",
       "\"\"\"\n",
       "                                OLS Regression Results                                \n",
       "======================================================================================\n",
       "Dep. Variable:     conversationalist_quantile   R-squared:                       0.012\n",
       "Model:                                    OLS   Adj. R-squared:                  0.011\n",
       "Method:                         Least Squares   F-statistic:                     20.33\n",
       "Date:                        Thu, 15 Jun 2023   Prob (F-statistic):           6.97e-06\n",
       "Time:                                19:55:38   Log-Likelihood:                -2387.8\n",
       "No. Observations:                        1690   AIC:                             4780.\n",
       "Df Residuals:                            1688   BIC:                             4791.\n",
       "Df Model:                                   1                                         \n",
       "Covariance Type:                    nonrobust                                         \n",
       "========================================================================================\n",
       "                           coef    std err          t      P>|t|      [0.025      0.975]\n",
       "----------------------------------------------------------------------------------------\n",
       "Intercept               -0.1960      0.048     -4.070      0.000      -0.290      -0.102\n",
       "backchannel_recieved     0.0013      0.000      4.509      0.000       0.001       0.002\n",
       "==============================================================================\n",
       "Omnibus:                     6277.629   Durbin-Watson:                   1.896\n",
       "Prob(Omnibus):                  0.000   Jarque-Bera (JB):              269.241\n",
       "Skew:                           0.023   Prob(JB):                     3.43e-59\n",
       "Kurtosis:                       1.045   Cond. No.                         329.\n",
       "==============================================================================\n",
       "\n",
       "Notes:\n",
       "[1] Standard Errors assume that the covariance matrix of the errors is correctly specified.\n",
       "\"\"\""
      ]
     },
     "execution_count": 139,
     "metadata": {},
     "output_type": "execute_result"
    }
   ],
   "source": [
    "reg = get_lin_reg(df_selected_quant, \"backchannel_recieved\", \"conversationalist_quantile\", \"Whether the conversationalist is above the 75th percentile\")\n",
    "reg.summary()"
   ]
  },
  {
   "cell_type": "code",
   "execution_count": null,
   "metadata": {},
   "outputs": [
    {
     "data": {
      "text/plain": [
       "(array([1476.,    0.,    0.,    0.,    0.,    0.,    0.,    0.,    0.,\n",
       "        1781.]),\n",
       " array([0. , 0.1, 0.2, 0.3, 0.4, 0.5, 0.6, 0.7, 0.8, 0.9, 1. ]),\n",
       " <BarContainer object of 10 artists>)"
      ]
     },
     "execution_count": 118,
     "metadata": {},
     "output_type": "execute_result"
    },
    {
     "data": {
      "image/png": "[encoded data removed]",
      "text/plain": [
       "<Figure size 640x480 with 1 Axes>"
      ]
     },
     "metadata": {},
     "output_type": "display_data"
    }
   ],
   "source": [
    "plt.hist(df_selected[\"conversationalist_above_quantile\"])"
   ]
  },
  {
   "cell_type": "code",
   "execution_count": null,
   "metadata": {},
   "outputs": [
    {
     "data": {
      "text/plain": [
       "(array([1638.,    0.,    0.,    0.,    0.,    0.,    0.,    0.,    0.,\n",
       "        1619.]),\n",
       " array([0. , 0.1, 0.2, 0.3, 0.4, 0.5, 0.6, 0.7, 0.8, 0.9, 1. ]),\n",
       " <BarContainer object of 10 artists>)"
      ]
     },
     "execution_count": 119,
     "metadata": {},
     "output_type": "execute_result"
    },
    {
     "data": {
      "image/png": "[encoded data removed]",
      "text/plain": [
       "<Figure size 640x480 with 1 Axes>"
      ]
     },
     "metadata": {},
     "output_type": "display_data"
    }
   ],
   "source": [
    "df_selected[\"conversationalist_above_median\"] = np.where(df_selected[\"conversationalist\"]>df_selected[\"conversationalist\"].median(), 1, 0)\n",
    "plt.hist(df_selected[\"conversationalist_above_median\"])"
   ]
  },
  {
   "cell_type": "code",
   "execution_count": null,
   "metadata": {},
   "outputs": [
    {
     "data": {
      "text/plain": [
       "<matplotlib.legend.Legend at 0x2835d8100>"
      ]
     },
     "execution_count": 120,
     "metadata": {},
     "output_type": "execute_result"
    },
    {
     "data": {
      "image/png": "[encoded data removed]",
      "text/plain": [
       "<Figure size 640x480 with 1 Axes>"
      ]
     },
     "metadata": {},
     "output_type": "display_data"
    }
   ],
   "source": [
    "plt.hist(df_selected[df_selected[\"conversationalist_above_median\"]==1][\"backchannel_recieved\"], alpha=0.5, label=\"Above Average Conversationalist\", bins=30)\n",
    "plt.hist(df_selected[df_selected[\"conversationalist_above_median\"]==0][\"backchannel_recieved\"], alpha=0.5, label=\"Below Average Conversationalist\", bins=30)\n",
    "plt.title(\"Backchannel Recieved, by Conversationalist\")\n",
    "plt.xlabel(\"Backchannel Recieved\")\n",
    "plt.ylabel(\"Response Count\")\n",
    "plt.legend()"
   ]
  },
  {
   "cell_type": "code",
   "execution_count": null,
   "metadata": {},
   "outputs": [
    {
     "data": {
      "text/plain": [
       "<matplotlib.legend.Legend at 0x28358d150>"
      ]
     },
     "execution_count": 121,
     "metadata": {},
     "output_type": "execute_result"
    },
    {
     "data": {
      "image/png": "[encoded data removed]",
      "text/plain": [
       "<Figure size 640x480 with 1 Axes>"
      ]
     },
     "metadata": {},
     "output_type": "display_data"
    }
   ],
   "source": [
    "plt.hist(df_selected[df_selected[\"conversationalist_above_quantile\"]==1][\"backchannel_recieved\"], alpha=0.5, label=\"Top 25 Conversationalist\", bins=30)\n",
    "plt.hist(df_selected[df_selected[\"conversationalist_above_quantile\"]==0][\"backchannel_recieved\"], alpha=0.5, label=\"Below top 25 Conversationalist\", bins=30)\n",
    "plt.title(\"Backchannel Recieved, by Conversationalist\")\n",
    "plt.xlabel(\"Backchannel Recieved\")\n",
    "plt.ylabel(\"Response Count\")\n",
    "plt.legend()"
   ]
  },
  {
   "cell_type": "code",
   "execution_count": null,
   "metadata": {},
   "outputs": [
    {
     "data": {
      "text/html": [
       "<div>\n",
       "<style scoped>\n",
       "    .dataframe tbody tr th:only-of-type {\n",
       "        vertical-align: middle;\n",
       "    }\n",
       "\n",
       "    .dataframe tbody tr th {\n",
       "        vertical-align: top;\n",
       "    }\n",
       "\n",
       "    .dataframe thead th {\n",
       "        text-align: right;\n",
       "    }\n",
       "</style>\n",
       "<table border=\"1\" class=\"dataframe\">\n",
       "  <thead>\n",
       "    <tr style=\"text-align: right;\">\n",
       "      <th></th>\n",
       "      <th>user_id</th>\n",
       "      <th>partner_id</th>\n",
       "      <th>conversation</th>\n",
       "      <th>date</th>\n",
       "      <th>survey_duration_in_seconds</th>\n",
       "      <th>time_zone</th>\n",
       "      <th>pre_affect</th>\n",
       "      <th>pre_arousal</th>\n",
       "      <th>technical_quality</th>\n",
       "      <th>conv_length</th>\n",
       "      <th>...</th>\n",
       "      <th>backchannel_count</th>\n",
       "      <th>affect_change</th>\n",
       "      <th>affect_change_is_positive</th>\n",
       "      <th>affect_change_sign</th>\n",
       "      <th>arousal_change</th>\n",
       "      <th>arousal_change_is_positive</th>\n",
       "      <th>arousal_change_sign</th>\n",
       "      <th>backchannel_recieved_grouped</th>\n",
       "      <th>conversationalist_above_quantile</th>\n",
       "      <th>conversationalist_above_median</th>\n",
       "    </tr>\n",
       "    <tr>\n",
       "      <th>conversationalist_above_average</th>\n",
       "      <th></th>\n",
       "      <th></th>\n",
       "      <th></th>\n",
       "      <th></th>\n",
       "      <th></th>\n",
       "      <th></th>\n",
       "      <th></th>\n",
       "      <th></th>\n",
       "      <th></th>\n",
       "      <th></th>\n",
       "      <th></th>\n",
       "      <th></th>\n",
       "      <th></th>\n",
       "      <th></th>\n",
       "      <th></th>\n",
       "      <th></th>\n",
       "      <th></th>\n",
       "      <th></th>\n",
       "      <th></th>\n",
       "      <th></th>\n",
       "      <th></th>\n",
       "    </tr>\n",
       "  </thead>\n",
       "  <tbody>\n",
       "    <tr>\n",
       "      <th>0</th>\n",
       "      <td>441</td>\n",
       "      <td>441</td>\n",
       "      <td>441</td>\n",
       "      <td>441</td>\n",
       "      <td>441</td>\n",
       "      <td>440</td>\n",
       "      <td>441</td>\n",
       "      <td>441</td>\n",
       "      <td>441</td>\n",
       "      <td>441</td>\n",
       "      <td>...</td>\n",
       "      <td>441</td>\n",
       "      <td>441</td>\n",
       "      <td>441</td>\n",
       "      <td>441</td>\n",
       "      <td>441</td>\n",
       "      <td>441</td>\n",
       "      <td>441</td>\n",
       "      <td>441</td>\n",
       "      <td>441</td>\n",
       "      <td>441</td>\n",
       "    </tr>\n",
       "    <tr>\n",
       "      <th>1</th>\n",
       "      <td>2816</td>\n",
       "      <td>2816</td>\n",
       "      <td>2816</td>\n",
       "      <td>2816</td>\n",
       "      <td>2816</td>\n",
       "      <td>2773</td>\n",
       "      <td>2816</td>\n",
       "      <td>2816</td>\n",
       "      <td>2816</td>\n",
       "      <td>2816</td>\n",
       "      <td>...</td>\n",
       "      <td>2816</td>\n",
       "      <td>2816</td>\n",
       "      <td>2816</td>\n",
       "      <td>2816</td>\n",
       "      <td>2816</td>\n",
       "      <td>2816</td>\n",
       "      <td>2816</td>\n",
       "      <td>2816</td>\n",
       "      <td>2816</td>\n",
       "      <td>2816</td>\n",
       "    </tr>\n",
       "  </tbody>\n",
       "</table>\n",
       "<p>2 rows × 235 columns</p>\n",
       "</div>"
      ],
      "text/plain": [
       "                                 user_id  partner_id  conversation  date  \\\n",
       "conversationalist_above_average                                            \n",
       "0                                    441         441           441   441   \n",
       "1                                   2816        2816          2816  2816   \n",
       "\n",
       "                                 survey_duration_in_seconds  time_zone  \\\n",
       "conversationalist_above_average                                          \n",
       "0                                                       441        440   \n",
       "1                                                      2816       2773   \n",
       "\n",
       "                                 pre_affect  pre_arousal  technical_quality  \\\n",
       "conversationalist_above_average                                               \n",
       "0                                       441          441                441   \n",
       "1                                      2816         2816               2816   \n",
       "\n",
       "                                 conv_length  ...  backchannel_count  \\\n",
       "conversationalist_above_average               ...                      \n",
       "0                                        441  ...                441   \n",
       "1                                       2816  ...               2816   \n",
       "\n",
       "                                 affect_change  affect_change_is_positive  \\\n",
       "conversationalist_above_average                                             \n",
       "0                                          441                        441   \n",
       "1                                         2816                       2816   \n",
       "\n",
       "                                 affect_change_sign  arousal_change  \\\n",
       "conversationalist_above_average                                       \n",
       "0                                               441             441   \n",
       "1                                              2816            2816   \n",
       "\n",
       "                                 arousal_change_is_positive  \\\n",
       "conversationalist_above_average                               \n",
       "0                                                       441   \n",
       "1                                                      2816   \n",
       "\n",
       "                                 arousal_change_sign  \\\n",
       "conversationalist_above_average                        \n",
       "0                                                441   \n",
       "1                                               2816   \n",
       "\n",
       "                                 backchannel_recieved_grouped  \\\n",
       "conversationalist_above_average                                 \n",
       "0                                                         441   \n",
       "1                                                        2816   \n",
       "\n",
       "                                 conversationalist_above_quantile  \\\n",
       "conversationalist_above_average                                     \n",
       "0                                                             441   \n",
       "1                                                            2816   \n",
       "\n",
       "                                 conversationalist_above_median  \n",
       "conversationalist_above_average                                  \n",
       "0                                                           441  \n",
       "1                                                          2816  \n",
       "\n",
       "[2 rows x 235 columns]"
      ]
     },
     "execution_count": 122,
     "metadata": {},
     "output_type": "execute_result"
    }
   ],
   "source": [
    "df_selected.groupby(\"conversationalist_above_average\").count()"
   ]
  },
  {
   "cell_type": "code",
   "execution_count": null,
   "metadata": {},
   "outputs": [
    {
     "data": {
      "text/plain": [
       "conversationalist_above_average\n",
       "0    132.385488\n",
       "1    143.959162\n",
       "Name: backchannel_recieved, dtype: float64"
      ]
     },
     "execution_count": 123,
     "metadata": {},
     "output_type": "execute_result"
    }
   ],
   "source": [
    "df_selected.groupby(\"conversationalist_above_average\")[\"backchannel_recieved\"].mean()"
   ]
  },
  {
   "cell_type": "code",
   "execution_count": null,
   "metadata": {},
   "outputs": [
    {
     "data": {
      "text/html": [
       "<table class=\"simpletable\">\n",
       "<caption>OLS Regression Results</caption>\n",
       "<tr>\n",
       "  <th>Dep. Variable:</th>    <td>conversationalist_above_quantile</td> <th>  R-squared:         </th> <td>   0.005</td>\n",
       "</tr>\n",
       "<tr>\n",
       "  <th>Model:</th>                           <td>OLS</td>               <th>  Adj. R-squared:    </th> <td>   0.005</td>\n",
       "</tr>\n",
       "<tr>\n",
       "  <th>Method:</th>                     <td>Least Squares</td>          <th>  F-statistic:       </th> <td>   16.80</td>\n",
       "</tr>\n",
       "<tr>\n",
       "  <th>Date:</th>                     <td>Thu, 15 Jun 2023</td>         <th>  Prob (F-statistic):</th> <td>4.25e-05</td>\n",
       "</tr>\n",
       "<tr>\n",
       "  <th>Time:</th>                         <td>19:48:42</td>             <th>  Log-Likelihood:    </th> <td> -2341.2</td>\n",
       "</tr>\n",
       "<tr>\n",
       "  <th>No. Observations:</th>              <td>  3257</td>              <th>  AIC:               </th> <td>   4686.</td>\n",
       "</tr>\n",
       "<tr>\n",
       "  <th>Df Residuals:</th>                  <td>  3255</td>              <th>  BIC:               </th> <td>   4699.</td>\n",
       "</tr>\n",
       "<tr>\n",
       "  <th>Df Model:</th>                      <td>     1</td>              <th>                     </th>     <td> </td>   \n",
       "</tr>\n",
       "<tr>\n",
       "  <th>Covariance Type:</th>              <td>nonrobust</td>            <th>                     </th>     <td> </td>   \n",
       "</tr>\n",
       "</table>\n",
       "<table class=\"simpletable\">\n",
       "<tr>\n",
       "            <td></td>              <th>coef</th>     <th>std err</th>      <th>t</th>      <th>P>|t|</th>  <th>[0.025</th>    <th>0.975]</th>  \n",
       "</tr>\n",
       "<tr>\n",
       "  <th>Intercept</th>            <td>    0.4842</td> <td>    0.018</td> <td>   27.530</td> <td> 0.000</td> <td>    0.450</td> <td>    0.519</td>\n",
       "</tr>\n",
       "<tr>\n",
       "  <th>backchannel_recieved</th> <td>    0.0004</td> <td>    0.000</td> <td>    4.099</td> <td> 0.000</td> <td>    0.000</td> <td>    0.001</td>\n",
       "</tr>\n",
       "</table>\n",
       "<table class=\"simpletable\">\n",
       "<tr>\n",
       "  <th>Omnibus:</th>       <td>11836.742</td> <th>  Durbin-Watson:     </th> <td>   1.918</td> \n",
       "</tr>\n",
       "<tr>\n",
       "  <th>Prob(Omnibus):</th>  <td> 0.000</td>   <th>  Jarque-Bera (JB):  </th> <td> 532.405</td> \n",
       "</tr>\n",
       "<tr>\n",
       "  <th>Skew:</th>           <td>-0.185</td>   <th>  Prob(JB):          </th> <td>2.45e-116</td>\n",
       "</tr>\n",
       "<tr>\n",
       "  <th>Kurtosis:</th>       <td> 1.054</td>   <th>  Cond. No.          </th> <td>    331.</td> \n",
       "</tr>\n",
       "</table><br/><br/>Notes:<br/>[1] Standard Errors assume that the covariance matrix of the errors is correctly specified."
      ],
      "text/latex": [
       "\\begin{center}\n",
       "\\begin{tabular}{lclc}\n",
       "\\toprule\n",
       "\\textbf{Dep. Variable:}        & conversationalist\\_above\\_quantile & \\textbf{  R-squared:         } &     0.005   \\\\\n",
       "\\textbf{Model:}                &                OLS                 & \\textbf{  Adj. R-squared:    } &     0.005   \\\\\n",
       "\\textbf{Method:}               &           Least Squares            & \\textbf{  F-statistic:       } &     16.80   \\\\\n",
       "\\textbf{Date:}                 &          Thu, 15 Jun 2023          & \\textbf{  Prob (F-statistic):} &  4.25e-05   \\\\\n",
       "\\textbf{Time:}                 &              19:48:42              & \\textbf{  Log-Likelihood:    } &   -2341.2   \\\\\n",
       "\\textbf{No. Observations:}     &                 3257               & \\textbf{  AIC:               } &     4686.   \\\\\n",
       "\\textbf{Df Residuals:}         &                 3255               & \\textbf{  BIC:               } &     4699.   \\\\\n",
       "\\textbf{Df Model:}             &                    1               & \\textbf{                     } &             \\\\\n",
       "\\textbf{Covariance Type:}      &             nonrobust              & \\textbf{                     } &             \\\\\n",
       "\\bottomrule\n",
       "\\end{tabular}\n",
       "\\begin{tabular}{lcccccc}\n",
       "                               & \\textbf{coef} & \\textbf{std err} & \\textbf{t} & \\textbf{P$> |$t$|$} & \\textbf{[0.025} & \\textbf{0.975]}  \\\\\n",
       "\\midrule\n",
       "\\textbf{Intercept}             &       0.4842  &        0.018     &    27.530  &         0.000        &        0.450    &        0.519     \\\\\n",
       "\\textbf{backchannel\\_recieved} &       0.0004  &        0.000     &     4.099  &         0.000        &        0.000    &        0.001     \\\\\n",
       "\\bottomrule\n",
       "\\end{tabular}\n",
       "\\begin{tabular}{lclc}\n",
       "\\textbf{Omnibus:}       & 11836.742 & \\textbf{  Durbin-Watson:     } &     1.918  \\\\\n",
       "\\textbf{Prob(Omnibus):} &    0.000  & \\textbf{  Jarque-Bera (JB):  } &   532.405  \\\\\n",
       "\\textbf{Skew:}          &   -0.185  & \\textbf{  Prob(JB):          } & 2.45e-116  \\\\\n",
       "\\textbf{Kurtosis:}      &    1.054  & \\textbf{  Cond. No.          } &      331.  \\\\\n",
       "\\bottomrule\n",
       "\\end{tabular}\n",
       "%\\caption{OLS Regression Results}\n",
       "\\end{center}\n",
       "\n",
       "Notes: \\newline\n",
       " [1] Standard Errors assume that the covariance matrix of the errors is correctly specified."
      ],
      "text/plain": [
       "<class 'statsmodels.iolib.summary.Summary'>\n",
       "\"\"\"\n",
       "                                   OLS Regression Results                                   \n",
       "============================================================================================\n",
       "Dep. Variable:     conversationalist_above_quantile   R-squared:                       0.005\n",
       "Model:                                          OLS   Adj. R-squared:                  0.005\n",
       "Method:                               Least Squares   F-statistic:                     16.80\n",
       "Date:                              Thu, 15 Jun 2023   Prob (F-statistic):           4.25e-05\n",
       "Time:                                      19:48:42   Log-Likelihood:                -2341.2\n",
       "No. Observations:                              3257   AIC:                             4686.\n",
       "Df Residuals:                                  3255   BIC:                             4699.\n",
       "Df Model:                                         1                                         \n",
       "Covariance Type:                          nonrobust                                         \n",
       "========================================================================================\n",
       "                           coef    std err          t      P>|t|      [0.025      0.975]\n",
       "----------------------------------------------------------------------------------------\n",
       "Intercept                0.4842      0.018     27.530      0.000       0.450       0.519\n",
       "backchannel_recieved     0.0004      0.000      4.099      0.000       0.000       0.001\n",
       "==============================================================================\n",
       "Omnibus:                    11836.742   Durbin-Watson:                   1.918\n",
       "Prob(Omnibus):                  0.000   Jarque-Bera (JB):              532.405\n",
       "Skew:                          -0.185   Prob(JB):                    2.45e-116\n",
       "Kurtosis:                       1.054   Cond. No.                         331.\n",
       "==============================================================================\n",
       "\n",
       "Notes:\n",
       "[1] Standard Errors assume that the covariance matrix of the errors is correctly specified.\n",
       "\"\"\""
      ]
     },
     "execution_count": 124,
     "metadata": {},
     "output_type": "execute_result"
    }
   ],
   "source": [
    "reg = get_lin_reg(df_selected, \"backchannel_recieved\", \"conversationalist_above_quantile\", \"\")\n",
    "reg.summary()"
   ]
  },
  {
   "cell_type": "code",
   "execution_count": null,
   "metadata": {},
   "outputs": [
    {
     "data": {
      "text/plain": [
       "(array([1662.,    0.,    0.,    0.,    0.,    0.,    0.,    0.,    0.,\n",
       "        1650.]),\n",
       " array([0. , 0.1, 0.2, 0.3, 0.4, 0.5, 0.6, 0.7, 0.8, 0.9, 1. ]),\n",
       " <BarContainer object of 10 artists>)"
      ]
     },
     "execution_count": 125,
     "metadata": {},
     "output_type": "execute_result"
    },
    {
     "data": {
      "image/png": "[encoded data removed]",
      "text/plain": [
       "<Figure size 640x480 with 1 Axes>"
      ]
     },
     "metadata": {},
     "output_type": "display_data"
    }
   ],
   "source": [
    "df[\"backchannel_recieved_grouped\"] = np.where(df[\"backchannel_recieved\"]>df[\"backchannel_recieved\"].median(), 1, 0)\n",
    "plt.hist(df[\"backchannel_recieved_grouped\"])"
   ]
  },
  {
   "cell_type": "code",
   "execution_count": null,
   "metadata": {},
   "outputs": [
    {
     "data": {
      "text/plain": [
       "Text(0, 0.5, 'Response Count')"
      ]
     },
     "execution_count": 126,
     "metadata": {},
     "output_type": "execute_result"
    },
    {
     "data": {
      "image/png": "[encoded data removed]",
      "text/plain": [
       "<Figure size 640x480 with 1 Axes>"
      ]
     },
     "metadata": {},
     "output_type": "display_data"
    }
   ],
   "source": [
    "plt.hist(df[df[\"backchannel_recieved_grouped\"]==1][\"conversationalist\"], alpha=0.5, label=\"Above Average Backchannel Count\", bins=10)\n",
    "plt.hist(df[df[\"backchannel_recieved_grouped\"]==0][\"conversationalist\"], alpha=0.5, label=\"Below Average Backchannel Count\", bins=10)\n",
    "plt.legend()\n",
    "plt.title(\"Conversationalist Distribution, by Backchannel count\")\n",
    "plt.xlabel(\"Conversationalist Rank (100 highest)\")\n",
    "plt.ylabel(\"Response Count\")"
   ]
  },
  {
   "cell_type": "code",
   "execution_count": null,
   "metadata": {},
   "outputs": [
    {
     "ename": "PatsyError",
     "evalue": "Error evaluating factor: NameError: name 'conversationalist_above_quantile' is not defined\n    conversationalist_above_quantile ~ backchannel_recieved_grouped\n    ^^^^^^^^^^^^^^^^^^^^^^^^^^^^^^^^",
     "output_type": "error",
     "traceback": [
      "\u001b[0;31m---------------------------------------------------------------------------\u001b[0m",
      "\u001b[0;31mNameError\u001b[0m                                 Traceback (most recent call last)",
      "File \u001b[0;32m/Library/Frameworks/Python.framework/Versions/3.10/lib/python3.10/site-packages/patsy/compat.py:36\u001b[0m, in \u001b[0;36mcall_and_wrap_exc\u001b[0;34m(msg, origin, f, *args, **kwargs)\u001b[0m\n\u001b[1;32m     35\u001b[0m \u001b[39mtry\u001b[39;00m:\n\u001b[0;32m---> 36\u001b[0m     \u001b[39mreturn\u001b[39;00m f(\u001b[39m*\u001b[39;49margs, \u001b[39m*\u001b[39;49m\u001b[39m*\u001b[39;49mkwargs)\n\u001b[1;32m     37\u001b[0m \u001b[39mexcept\u001b[39;00m \u001b[39mException\u001b[39;00m \u001b[39mas\u001b[39;00m e:\n",
      "File \u001b[0;32m/Library/Frameworks/Python.framework/Versions/3.10/lib/python3.10/site-packages/patsy/eval.py:169\u001b[0m, in \u001b[0;36mEvalEnvironment.eval\u001b[0;34m(self, expr, source_name, inner_namespace)\u001b[0m\n\u001b[1;32m    168\u001b[0m code \u001b[39m=\u001b[39m \u001b[39mcompile\u001b[39m(expr, source_name, \u001b[39m\"\u001b[39m\u001b[39meval\u001b[39m\u001b[39m\"\u001b[39m, \u001b[39mself\u001b[39m\u001b[39m.\u001b[39mflags, \u001b[39mFalse\u001b[39;00m)\n\u001b[0;32m--> 169\u001b[0m \u001b[39mreturn\u001b[39;00m \u001b[39meval\u001b[39;49m(code, {}, VarLookupDict([inner_namespace]\n\u001b[1;32m    170\u001b[0m                                     \u001b[39m+\u001b[39;49m \u001b[39mself\u001b[39;49m\u001b[39m.\u001b[39;49m_namespaces))\n",
      "File \u001b[0;32m<string>:1\u001b[0m\n",
      "\u001b[0;31mNameError\u001b[0m: name 'conversationalist_above_quantile' is not defined",
      "\nThe above exception was the direct cause of the following exception:\n",
      "\u001b[0;31mPatsyError\u001b[0m                                Traceback (most recent call last)",
      "Cell \u001b[0;32mIn[127], line 1\u001b[0m\n\u001b[0;32m----> 1\u001b[0m reg \u001b[39m=\u001b[39m get_lin_reg(df, \u001b[39m\"\u001b[39;49m\u001b[39mbackchannel_recieved_grouped\u001b[39;49m\u001b[39m\"\u001b[39;49m, \u001b[39m\"\u001b[39;49m\u001b[39mconversationalist_above_quantile\u001b[39;49m\u001b[39m\"\u001b[39;49m, \u001b[39m\"\u001b[39;49m\u001b[39m\"\u001b[39;49m)\n\u001b[1;32m      2\u001b[0m reg\u001b[39m.\u001b[39msummary()\n",
      "Cell \u001b[0;32mIn[88], line 14\u001b[0m, in \u001b[0;36mget_lin_reg\u001b[0;34m(df, var_x, var_y, description, logistic)\u001b[0m\n\u001b[1;32m      1\u001b[0m \u001b[39mdef\u001b[39;00m \u001b[39mget_lin_reg\u001b[39m(df: pd\u001b[39m.\u001b[39mDataFrame, var_x: \u001b[39mstr\u001b[39m, var_y: \u001b[39mstr\u001b[39m, description: \u001b[39mstr\u001b[39m \u001b[39m=\u001b[39m \u001b[39m\"\u001b[39m\u001b[39m\"\u001b[39m, logistic: \u001b[39mbool\u001b[39m \u001b[39m=\u001b[39m \u001b[39mFalse\u001b[39;00m):\n\u001b[1;32m      2\u001b[0m     \u001b[39m\"\"\" Plots linear regression plot between two variables and returns fitted regression model\u001b[39;00m\n\u001b[1;32m      3\u001b[0m \n\u001b[1;32m      4\u001b[0m \u001b[39m    Args:\u001b[39;00m\n\u001b[0;32m   (...)\u001b[0m\n\u001b[1;32m     12\u001b[0m \u001b[39m        RegressionResultsWrapper: fitted regression model\u001b[39;00m\n\u001b[1;32m     13\u001b[0m \u001b[39m    \"\"\"\u001b[39;00m\n\u001b[0;32m---> 14\u001b[0m     reg \u001b[39m=\u001b[39m smf\u001b[39m.\u001b[39;49mols(\u001b[39mf\u001b[39;49m\u001b[39m'\u001b[39;49m\u001b[39m{\u001b[39;49;00mvar_y\u001b[39m}\u001b[39;49;00m\u001b[39m ~ \u001b[39;49m\u001b[39m{\u001b[39;49;00mvar_x\u001b[39m}\u001b[39;49;00m\u001b[39m'\u001b[39;49m, data \u001b[39m=\u001b[39;49m df)\u001b[39m.\u001b[39mfit()\n\u001b[1;32m     15\u001b[0m     plt\u001b[39m.\u001b[39mfigure()\n\u001b[1;32m     16\u001b[0m     sns\u001b[39m.\u001b[39mregplot(y\u001b[39m=\u001b[39mvar_y, x\u001b[39m=\u001b[39mvar_x, data\u001b[39m=\u001b[39mdf)\n",
      "File \u001b[0;32m/Library/Frameworks/Python.framework/Versions/3.10/lib/python3.10/site-packages/statsmodels/base/model.py:203\u001b[0m, in \u001b[0;36mModel.from_formula\u001b[0;34m(cls, formula, data, subset, drop_cols, *args, **kwargs)\u001b[0m\n\u001b[1;32m    200\u001b[0m \u001b[39mif\u001b[39;00m missing \u001b[39m==\u001b[39m \u001b[39m'\u001b[39m\u001b[39mnone\u001b[39m\u001b[39m'\u001b[39m:  \u001b[39m# with patsy it's drop or raise. let's raise.\u001b[39;00m\n\u001b[1;32m    201\u001b[0m     missing \u001b[39m=\u001b[39m \u001b[39m'\u001b[39m\u001b[39mraise\u001b[39m\u001b[39m'\u001b[39m\n\u001b[0;32m--> 203\u001b[0m tmp \u001b[39m=\u001b[39m handle_formula_data(data, \u001b[39mNone\u001b[39;49;00m, formula, depth\u001b[39m=\u001b[39;49meval_env,\n\u001b[1;32m    204\u001b[0m                           missing\u001b[39m=\u001b[39;49mmissing)\n\u001b[1;32m    205\u001b[0m ((endog, exog), missing_idx, design_info) \u001b[39m=\u001b[39m tmp\n\u001b[1;32m    206\u001b[0m max_endog \u001b[39m=\u001b[39m \u001b[39mcls\u001b[39m\u001b[39m.\u001b[39m_formula_max_endog\n",
      "File \u001b[0;32m/Library/Frameworks/Python.framework/Versions/3.10/lib/python3.10/site-packages/statsmodels/formula/formulatools.py:63\u001b[0m, in \u001b[0;36mhandle_formula_data\u001b[0;34m(Y, X, formula, depth, missing)\u001b[0m\n\u001b[1;32m     61\u001b[0m \u001b[39melse\u001b[39;00m:\n\u001b[1;32m     62\u001b[0m     \u001b[39mif\u001b[39;00m data_util\u001b[39m.\u001b[39m_is_using_pandas(Y, \u001b[39mNone\u001b[39;00m):\n\u001b[0;32m---> 63\u001b[0m         result \u001b[39m=\u001b[39m dmatrices(formula, Y, depth, return_type\u001b[39m=\u001b[39;49m\u001b[39m'\u001b[39;49m\u001b[39mdataframe\u001b[39;49m\u001b[39m'\u001b[39;49m,\n\u001b[1;32m     64\u001b[0m                            NA_action\u001b[39m=\u001b[39;49mna_action)\n\u001b[1;32m     65\u001b[0m     \u001b[39melse\u001b[39;00m:\n\u001b[1;32m     66\u001b[0m         result \u001b[39m=\u001b[39m dmatrices(formula, Y, depth, return_type\u001b[39m=\u001b[39m\u001b[39m'\u001b[39m\u001b[39mdataframe\u001b[39m\u001b[39m'\u001b[39m,\n\u001b[1;32m     67\u001b[0m                            NA_action\u001b[39m=\u001b[39mna_action)\n",
      "File \u001b[0;32m/Library/Frameworks/Python.framework/Versions/3.10/lib/python3.10/site-packages/patsy/highlevel.py:309\u001b[0m, in \u001b[0;36mdmatrices\u001b[0;34m(formula_like, data, eval_env, NA_action, return_type)\u001b[0m\n\u001b[1;32m    299\u001b[0m \u001b[39m\"\"\"Construct two design matrices given a formula_like and data.\u001b[39;00m\n\u001b[1;32m    300\u001b[0m \n\u001b[1;32m    301\u001b[0m \u001b[39mThis function is identical to :func:`dmatrix`, except that it requires\u001b[39;00m\n\u001b[0;32m   (...)\u001b[0m\n\u001b[1;32m    306\u001b[0m \u001b[39mSee :func:`dmatrix` for details.\u001b[39;00m\n\u001b[1;32m    307\u001b[0m \u001b[39m\"\"\"\u001b[39;00m\n\u001b[1;32m    308\u001b[0m eval_env \u001b[39m=\u001b[39m EvalEnvironment\u001b[39m.\u001b[39mcapture(eval_env, reference\u001b[39m=\u001b[39m\u001b[39m1\u001b[39m)\n\u001b[0;32m--> 309\u001b[0m (lhs, rhs) \u001b[39m=\u001b[39m _do_highlevel_design(formula_like, data, eval_env,\n\u001b[1;32m    310\u001b[0m                                   NA_action, return_type)\n\u001b[1;32m    311\u001b[0m \u001b[39mif\u001b[39;00m lhs\u001b[39m.\u001b[39mshape[\u001b[39m1\u001b[39m] \u001b[39m==\u001b[39m \u001b[39m0\u001b[39m:\n\u001b[1;32m    312\u001b[0m     \u001b[39mraise\u001b[39;00m PatsyError(\u001b[39m\"\u001b[39m\u001b[39mmodel is missing required outcome variables\u001b[39m\u001b[39m\"\u001b[39m)\n",
      "File \u001b[0;32m/Library/Frameworks/Python.framework/Versions/3.10/lib/python3.10/site-packages/patsy/highlevel.py:164\u001b[0m, in \u001b[0;36m_do_highlevel_design\u001b[0;34m(formula_like, data, eval_env, NA_action, return_type)\u001b[0m\n\u001b[1;32m    162\u001b[0m \u001b[39mdef\u001b[39;00m \u001b[39mdata_iter_maker\u001b[39m():\n\u001b[1;32m    163\u001b[0m     \u001b[39mreturn\u001b[39;00m \u001b[39miter\u001b[39m([data])\n\u001b[0;32m--> 164\u001b[0m design_infos \u001b[39m=\u001b[39m _try_incr_builders(formula_like, data_iter_maker, eval_env,\n\u001b[1;32m    165\u001b[0m                                   NA_action)\n\u001b[1;32m    166\u001b[0m \u001b[39mif\u001b[39;00m design_infos \u001b[39mis\u001b[39;00m \u001b[39mnot\u001b[39;00m \u001b[39mNone\u001b[39;00m:\n\u001b[1;32m    167\u001b[0m     \u001b[39mreturn\u001b[39;00m build_design_matrices(design_infos, data,\n\u001b[1;32m    168\u001b[0m                                  NA_action\u001b[39m=\u001b[39mNA_action,\n\u001b[1;32m    169\u001b[0m                                  return_type\u001b[39m=\u001b[39mreturn_type)\n",
      "File \u001b[0;32m/Library/Frameworks/Python.framework/Versions/3.10/lib/python3.10/site-packages/patsy/highlevel.py:66\u001b[0m, in \u001b[0;36m_try_incr_builders\u001b[0;34m(formula_like, data_iter_maker, eval_env, NA_action)\u001b[0m\n\u001b[1;32m     64\u001b[0m \u001b[39mif\u001b[39;00m \u001b[39misinstance\u001b[39m(formula_like, ModelDesc):\n\u001b[1;32m     65\u001b[0m     \u001b[39massert\u001b[39;00m \u001b[39misinstance\u001b[39m(eval_env, EvalEnvironment)\n\u001b[0;32m---> 66\u001b[0m     \u001b[39mreturn\u001b[39;00m design_matrix_builders([formula_like\u001b[39m.\u001b[39;49mlhs_termlist,\n\u001b[1;32m     67\u001b[0m                                    formula_like\u001b[39m.\u001b[39;49mrhs_termlist],\n\u001b[1;32m     68\u001b[0m                                   data_iter_maker,\n\u001b[1;32m     69\u001b[0m                                   eval_env,\n\u001b[1;32m     70\u001b[0m                                   NA_action)\n\u001b[1;32m     71\u001b[0m \u001b[39melse\u001b[39;00m:\n\u001b[1;32m     72\u001b[0m     \u001b[39mreturn\u001b[39;00m \u001b[39mNone\u001b[39;00m\n",
      "File \u001b[0;32m/Library/Frameworks/Python.framework/Versions/3.10/lib/python3.10/site-packages/patsy/build.py:693\u001b[0m, in \u001b[0;36mdesign_matrix_builders\u001b[0;34m(termlists, data_iter_maker, eval_env, NA_action)\u001b[0m\n\u001b[1;32m    689\u001b[0m factor_states \u001b[39m=\u001b[39m _factors_memorize(all_factors, data_iter_maker, eval_env)\n\u001b[1;32m    690\u001b[0m \u001b[39m# Now all the factors have working eval methods, so we can evaluate them\u001b[39;00m\n\u001b[1;32m    691\u001b[0m \u001b[39m# on some data to find out what type of data they return.\u001b[39;00m\n\u001b[1;32m    692\u001b[0m (num_column_counts,\n\u001b[0;32m--> 693\u001b[0m  cat_levels_contrasts) \u001b[39m=\u001b[39m _examine_factor_types(all_factors,\n\u001b[1;32m    694\u001b[0m                                                factor_states,\n\u001b[1;32m    695\u001b[0m                                                data_iter_maker,\n\u001b[1;32m    696\u001b[0m                                                NA_action)\n\u001b[1;32m    697\u001b[0m \u001b[39m# Now we need the factor infos, which encapsulate the knowledge of\u001b[39;00m\n\u001b[1;32m    698\u001b[0m \u001b[39m# how to turn any given factor into a chunk of data:\u001b[39;00m\n\u001b[1;32m    699\u001b[0m factor_infos \u001b[39m=\u001b[39m {}\n",
      "File \u001b[0;32m/Library/Frameworks/Python.framework/Versions/3.10/lib/python3.10/site-packages/patsy/build.py:443\u001b[0m, in \u001b[0;36m_examine_factor_types\u001b[0;34m(factors, factor_states, data_iter_maker, NA_action)\u001b[0m\n\u001b[1;32m    441\u001b[0m \u001b[39mfor\u001b[39;00m data \u001b[39min\u001b[39;00m data_iter_maker():\n\u001b[1;32m    442\u001b[0m     \u001b[39mfor\u001b[39;00m factor \u001b[39min\u001b[39;00m \u001b[39mlist\u001b[39m(examine_needed):\n\u001b[0;32m--> 443\u001b[0m         value \u001b[39m=\u001b[39m factor\u001b[39m.\u001b[39;49meval(factor_states[factor], data)\n\u001b[1;32m    444\u001b[0m         \u001b[39mif\u001b[39;00m factor \u001b[39min\u001b[39;00m cat_sniffers \u001b[39mor\u001b[39;00m guess_categorical(value):\n\u001b[1;32m    445\u001b[0m             \u001b[39mif\u001b[39;00m factor \u001b[39mnot\u001b[39;00m \u001b[39min\u001b[39;00m cat_sniffers:\n",
      "File \u001b[0;32m/Library/Frameworks/Python.framework/Versions/3.10/lib/python3.10/site-packages/patsy/eval.py:568\u001b[0m, in \u001b[0;36mEvalFactor.eval\u001b[0;34m(self, memorize_state, data)\u001b[0m\n\u001b[1;32m    567\u001b[0m \u001b[39mdef\u001b[39;00m \u001b[39meval\u001b[39m(\u001b[39mself\u001b[39m, memorize_state, data):\n\u001b[0;32m--> 568\u001b[0m     \u001b[39mreturn\u001b[39;00m \u001b[39mself\u001b[39;49m\u001b[39m.\u001b[39;49m_eval(memorize_state[\u001b[39m\"\u001b[39;49m\u001b[39meval_code\u001b[39;49m\u001b[39m\"\u001b[39;49m],\n\u001b[1;32m    569\u001b[0m                       memorize_state,\n\u001b[1;32m    570\u001b[0m                       data)\n",
      "File \u001b[0;32m/Library/Frameworks/Python.framework/Versions/3.10/lib/python3.10/site-packages/patsy/eval.py:551\u001b[0m, in \u001b[0;36mEvalFactor._eval\u001b[0;34m(self, code, memorize_state, data)\u001b[0m\n\u001b[1;32m    549\u001b[0m \u001b[39mdef\u001b[39;00m \u001b[39m_eval\u001b[39m(\u001b[39mself\u001b[39m, code, memorize_state, data):\n\u001b[1;32m    550\u001b[0m     inner_namespace \u001b[39m=\u001b[39m VarLookupDict([data, memorize_state[\u001b[39m\"\u001b[39m\u001b[39mtransforms\u001b[39m\u001b[39m\"\u001b[39m]])\n\u001b[0;32m--> 551\u001b[0m     \u001b[39mreturn\u001b[39;00m call_and_wrap_exc(\u001b[39m\"\u001b[39;49m\u001b[39mError evaluating factor\u001b[39;49m\u001b[39m\"\u001b[39;49m,\n\u001b[1;32m    552\u001b[0m                              \u001b[39mself\u001b[39;49m,\n\u001b[1;32m    553\u001b[0m                              memorize_state[\u001b[39m\"\u001b[39;49m\u001b[39meval_env\u001b[39;49m\u001b[39m\"\u001b[39;49m]\u001b[39m.\u001b[39;49meval,\n\u001b[1;32m    554\u001b[0m                              code,\n\u001b[1;32m    555\u001b[0m                              inner_namespace\u001b[39m=\u001b[39;49minner_namespace)\n",
      "File \u001b[0;32m/Library/Frameworks/Python.framework/Versions/3.10/lib/python3.10/site-packages/patsy/compat.py:43\u001b[0m, in \u001b[0;36mcall_and_wrap_exc\u001b[0;34m(msg, origin, f, *args, **kwargs)\u001b[0m\n\u001b[1;32m     39\u001b[0m     new_exc \u001b[39m=\u001b[39m PatsyError(\u001b[39m\"\u001b[39m\u001b[39m%s\u001b[39;00m\u001b[39m: \u001b[39m\u001b[39m%s\u001b[39;00m\u001b[39m: \u001b[39m\u001b[39m%s\u001b[39;00m\u001b[39m\"\u001b[39m\n\u001b[1;32m     40\u001b[0m                          \u001b[39m%\u001b[39m (msg, e\u001b[39m.\u001b[39m\u001b[39m__class__\u001b[39m\u001b[39m.\u001b[39m\u001b[39m__name__\u001b[39m, e),\n\u001b[1;32m     41\u001b[0m                          origin)\n\u001b[1;32m     42\u001b[0m     \u001b[39m# Use 'exec' to hide this syntax from the Python 2 parser:\u001b[39;00m\n\u001b[0;32m---> 43\u001b[0m     exec(\u001b[39m\"\u001b[39;49m\u001b[39mraise new_exc from e\u001b[39;49m\u001b[39m\"\u001b[39;49m)\n\u001b[1;32m     44\u001b[0m \u001b[39melse\u001b[39;00m:\n\u001b[1;32m     45\u001b[0m     \u001b[39m# In python 2, we just let the original exception escape -- better\u001b[39;00m\n\u001b[1;32m     46\u001b[0m     \u001b[39m# than destroying the traceback. But if it's a PatsyError, we can\u001b[39;00m\n\u001b[1;32m     47\u001b[0m     \u001b[39m# at least set the origin properly.\u001b[39;00m\n\u001b[1;32m     48\u001b[0m     \u001b[39mif\u001b[39;00m \u001b[39misinstance\u001b[39m(e, PatsyError):\n",
      "File \u001b[0;32m<string>:1\u001b[0m\n",
      "\u001b[0;31mPatsyError\u001b[0m: Error evaluating factor: NameError: name 'conversationalist_above_quantile' is not defined\n    conversationalist_above_quantile ~ backchannel_recieved_grouped\n    ^^^^^^^^^^^^^^^^^^^^^^^^^^^^^^^^"
     ]
    }
   ],
   "source": [
    "reg = get_lin_reg(df, \"backchannel_recieved_grouped\", \"conversationalist_above_quantile\", \"\")\n",
    "reg.summary()"
   ]
  },
  {
   "cell_type": "code",
   "execution_count": null,
   "metadata": {},
   "outputs": [],
   "source": []
  },
  {
   "cell_type": "code",
   "execution_count": null,
   "metadata": {},
   "outputs": [],
   "source": []
  }
 ],
 "metadata": {
  "kernelspec": {
   "display_name": "Python 3",
   "language": "python",
   "name": "python3"
  },
  "language_info": {
   "codemirror_mode": {
    "name": "ipython",
    "version": 3
   },
   "file_extension": ".py",
   "mimetype": "text/x-python",
   "name": "python",
   "nbconvert_exporter": "python",
   "pygments_lexer": "ipython3",
   "version": "3.10.1"
  },
  "orig_nbformat": 4
 },
 "nbformat": 4,
 "nbformat_minor": 2
}
