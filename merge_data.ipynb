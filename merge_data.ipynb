{
 "cells": [
  {
   "cell_type": "code",
   "execution_count": 4,
   "metadata": {},
   "outputs": [],
   "source": [
    "import pandas as pd\n",
    "import numpy as np\n",
    "import seaborn as sns\n",
    "import matplotlib as plt\n",
    "import statsmodels.formula.api as smf \n",
    "import os\n",
    "import re"
   ]
  },
  {
   "cell_type": "code",
   "execution_count": 5,
   "metadata": {},
   "outputs": [],
   "source": [
    "data_dir = \"/Users/huayinluo/Downloads/candor(1)\"\n",
    "subdirs = [x[0] for x in os.walk(data_dir)]"
   ]
  },
  {
   "cell_type": "code",
   "execution_count": 14,
   "metadata": {},
   "outputs": [],
   "source": [
    "data=pd.DataFrame(columns=['conversation', 'turn_id', 'speaker', 'backchannel_given', 'backchannel_recieved', 'delta', 'n_words', 'backchannel_count'])\n",
    "i=0\n",
    "for folder in subdirs:\n",
    "    if folder.endswith(\"transcription\"):\n",
    "        conv_id = folder.split(\"/\")[-2]\n",
    "        \n",
    "        file = os.path.join(folder, \"transcript_backbiter.csv\")\n",
    "        conv_df=pd.read_csv(file)\n",
    "        # conv_df= conv_df[conv_df['backchannel_speaker'].notna()]\n",
    "        \n",
    "        backchannel_given = conv_df.groupby(\"backchannel_speaker\").sum()[\"backchannel_count\"].reset_index().T.to_numpy()\n",
    "        data_tmp = pd.DataFrame({'conversation':conv_id, 'speaker': backchannel_given[0], 'backchannel_given': backchannel_given[1], 'backchannel_recieved': backchannel_given[1][::-1]})\n",
    "        data = pd.concat([data, data_tmp])\n",
    "        i+=1\n",
    "        print(f'finished {i} conversations')\n",
    "data.to_csv(\"/Users/huayinluo/Downloads/backchannels.csv\")"
   ]
  },
  {
   "cell_type": "code",
   "execution_count": null,
   "metadata": {},
   "outputs": [],
   "source": []
  }
 ],
 "metadata": {
  "kernelspec": {
   "display_name": "Python 3",
   "language": "python",
   "name": "python3"
  },
  "language_info": {
   "codemirror_mode": {
    "name": "ipython",
    "version": 3
   },
   "file_extension": ".py",
   "mimetype": "text/x-python",
   "name": "python",
   "nbconvert_exporter": "python",
   "pygments_lexer": "ipython3",
   "version": "3.10.1"
  },
  "orig_nbformat": 4
 },
 "nbformat": 4,
 "nbformat_minor": 2
}
